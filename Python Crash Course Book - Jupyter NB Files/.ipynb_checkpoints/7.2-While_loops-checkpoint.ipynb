{
 "cells": [
  {
   "cell_type": "markdown",
   "id": "14882e03-098d-41a8-8b1c-1e1b6582ae22",
   "metadata": {},
   "source": [
    "## FOR LOOP\n",
    "### 1. Use a for loop when you know the number of times you want to iterate or when you want to iterate over elements in a collection (e.g., list, tuple, string, etc.).\n",
    "### 2. The for loop automatically takes care of handling the iteration and doesn't require you to manage a loop variable explicitly.\n",
    "### 3. It is ideal when you want to perform a specific action for each item in a sequence."
   ]
  },
  {
   "cell_type": "code",
   "execution_count": null,
   "id": "6ec1d4ac-0712-45a5-82ac-9a2af9c879f3",
   "metadata": {},
   "outputs": [],
   "source": [
    "fruits = [\"apple\", \"banana\", \"orange\"] \n",
    "for fruit in fruits:\n",
    "    print (fruit)"
   ]
  },
  {
   "cell_type": "markdown",
   "id": "6e0c471f-471f-4d84-a04e-d47985d7ed9e",
   "metadata": {},
   "source": [
    "## WHILE LOOP\n",
    "### Use a while loop when you don't know in advance how many times you want to iterate, and the loop's continuation depends on a condition.\n",
    "### The while loop requires you to manage a loop variable explicitly, and you need to take care of incrementing or decrementing it (if applicable) inside the loop.\n",
    "### It is ideal when you want to repeat a specific action until a certain condition becomes false."
   ]
  },
  {
   "cell_type": "code",
   "execution_count": null,
   "id": "36644596-dcd1-4011-8309-a11437c9b25b",
   "metadata": {},
   "outputs": [],
   "source": [
    "count = 0\n",
    "\n",
    "while count < 3:\n",
    "    print(\"Hello!\")\n",
    "    count += 1"
   ]
  },
  {
   "cell_type": "markdown",
   "id": "045f782b-6cea-4d0e-9f68-7d0056069d37",
   "metadata": {},
   "source": [
    "__Parrot code to repeat user input__"
   ]
  },
  {
   "cell_type": "code",
   "execution_count": null,
   "id": "9d781900-c588-464c-976d-1ee82c35e066",
   "metadata": {},
   "outputs": [],
   "source": [
    "message = \"\"\n",
    "while message != 'stop':\n",
    "    message = input(\"Hello parrot: \")\n",
    "    if message == 'stop':\n",
    "        print(\"Ok boss, I'll stop!\")\n",
    "    else:\n",
    "        print(\"Parrot says:\", message)"
   ]
  },
  {
   "cell_type": "markdown",
   "id": "e645bfb7-a686-4806-a421-b64fda778578",
   "metadata": {},
   "source": [
    "__using 'flags' to determine the running condition of the loop (find more about iportance of flag in while loop).__\n",
    "\n",
    "there could be multiple conditions which will cause the loop to stop. we can set these conditions to flag, so that main code will gets simplified"
   ]
  },
  {
   "cell_type": "code",
   "execution_count": null,
   "id": "2732abce-430d-4185-9c5e-63119dbdd235",
   "metadata": {},
   "outputs": [],
   "source": [
    "flagActive = True\n",
    "\n",
    "message = \"\"\n",
    "\n",
    "print(\"stop: parrot will stop talking, sleep: Parrot will sleep, fly: parrot will fly\")\n",
    "\n",
    "while flagActive:\n",
    "    message = input (\"owner says to parrot: \")\n",
    "    if message == 'stop':\n",
    "        print(\"Ok boss, i'll stop repeating!\")\n",
    "        flagActive = False      # multiple condition to end the loop\n",
    "        \n",
    "    elif message == 'sleep':\n",
    "        print(\"Parrot has slept...zzzz...\")\n",
    "        flagActive = False      # multiple condition to end the loop\n",
    "        \n",
    "    elif message == 'fly':\n",
    "        print(\"Parrot has flew away... brrr...\")\n",
    "    else:\n",
    "        print(\"Parrot says to owner: \", message)"
   ]
  }
 ],
 "metadata": {
  "kernelspec": {
   "display_name": "Python 3 (ipykernel)",
   "language": "python",
   "name": "python3"
  },
  "language_info": {
   "codemirror_mode": {
    "name": "ipython",
    "version": 3
   },
   "file_extension": ".py",
   "mimetype": "text/x-python",
   "name": "python",
   "nbconvert_exporter": "python",
   "pygments_lexer": "ipython3",
   "version": "3.11.4"
  }
 },
 "nbformat": 4,
 "nbformat_minor": 5
}
