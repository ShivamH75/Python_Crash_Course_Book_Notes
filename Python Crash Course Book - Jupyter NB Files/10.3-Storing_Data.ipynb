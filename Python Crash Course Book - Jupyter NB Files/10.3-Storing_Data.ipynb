{
 "cells": [
  {
   "cell_type": "code",
   "execution_count": null,
   "id": "53c5adb7-98d2-4f14-a523-ba26de40eb5c",
   "metadata": {},
   "outputs": [],
   "source": [
    "# Storing Data\n",
    "# The json module allows you to convert simple Python data structures into JSON-formatted strings, and then load the data from that file the next time the program runs. \n",
    "\n",
    "from pathlib import Path\n",
    "# steps\n",
    "# 1. import json module\n",
    "import json\n",
    "\n",
    "# 2. create a list of numbers\n",
    "numbers = [2, 3, 5, 7, 11, 13]\n",
    "\n",
    "# 3. mention in Path the file which we will be using to store json data\n",
    "path = Path('text files/file_to_write_into.json')\n",
    "\n",
    "# 4. used method 'json.dumps()' to store the list data in a new variable\n",
    "contents = json.dumps(numbers)\n",
    "\n",
    "# 5. used 'write_text' method to write the 'contents' into json file\n",
    "path.write_text(contents)\n",
    "\n",
    "\n",
    "# json.loads() to read the list back into memory:\n",
    "# step 1: assign path of file in 'path' variable\n",
    "path = Path('text files/file_to_read_from.json')\n",
    "\n",
    "# step 2: read_text() method to read the file on mentioned path\n",
    "contents = path.read_text()\n",
    "\n",
    "# step 3: json.loads() method to load content from readed file\n",
    "numbers = json.loads(contents)\n",
    "\n",
    "# step 4: print the variable which was assigned json.load data\n",
    "print(numbers)\n",
    "\n",
    "\n",
    "## Saving and Reading User-Generated Data\n",
    "path = Path('text files/userinfo.json')\n",
    "\n",
    "if path.exists():\n",
    "    contents = path.read_text()\n",
    "    username = json.loads(contents)\n",
    "    print(f\"Welcome back, {username}!\")\n",
    "else:\n",
    "    username = input(\"What is your name? \")\n",
    "    contents = json.dumps(username)\n",
    "    path.write_text(contents)\n",
    "    print(f\"We'll remember you when you come back, {username}!\")"
   ]
  }
 ],
 "metadata": {
  "kernelspec": {
   "display_name": "Python 3 (ipykernel)",
   "language": "python",
   "name": "python3"
  },
  "language_info": {
   "codemirror_mode": {
    "name": "ipython",
    "version": 3
   },
   "file_extension": ".py",
   "mimetype": "text/x-python",
   "name": "python",
   "nbconvert_exporter": "python",
   "pygments_lexer": "ipython3",
   "version": "3.11.4"
  }
 },
 "nbformat": 4,
 "nbformat_minor": 5
}
