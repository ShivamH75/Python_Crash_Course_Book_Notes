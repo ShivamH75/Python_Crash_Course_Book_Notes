{
 "cells": [
  {
   "cell_type": "markdown",
   "id": "4186ee7c-cc59-4cab-a422-945ad8f140c5",
   "metadata": {},
   "source": [
    "## LIST in Python\n",
    "a list is a built-in data type that represents a collection of items.\r\n",
    "\r\n",
    "Mutable: Lists are mutable, meaning you can change their content by adding or removing elements, or by modifying existing elements.\r\n",
    "\r\n",
    "Ordered: Lists maintain the order of elements, i.e., the order in which elements are added to the list is preserved.\r\n",
    "\r\n",
    "Allows Duplicates: Lists can contain duplicate elements.\r\n",
    "\r\n",
    "Dynamic: Lists in Python can dynamically grow or shrink in size. You can add or remove elements as \n",
    "eeded.\r\n",
    "\r\n",
    "Heterogeneous: A list can contain elements of different data types. For example, you can have integers, strings, and other data types in the same list.\r\n",
    "\r\n",
    "Indexed: Elements in a list are accessed by their index. Indexing starts at 0 for the first element"
   ]
  },
  {
   "cell_type": "code",
   "execution_count": null,
   "id": "81872e4d-e16d-42d3-aeba-733e90fa93a1",
   "metadata": {},
   "outputs": [],
   "source": [
    "# list example \n",
    "\n",
    "fruits = [\"apple\", \"banana\", \"mango\", \"strawbery\"]\n",
    "\n",
    "print(fruits)   #if list is print directly, it prints with quotations and brackets\n",
    "\n",
    "print(fruits[0])    # prints 0th element of list\n",
    "\n",
    "print(fruits[0:2])    # print elements from m to n."
   ]
  },
  {
   "cell_type": "code",
   "execution_count": null,
   "id": "6b56587a-dec2-44e2-a462-62c077c76ad3",
   "metadata": {},
   "outputs": [],
   "source": [
    "# Add elements to the list\n",
    "# 1. add at last - AppEND \n",
    "\n",
    "fruits.append(\"cherry\") #append is inbuilt function to add elements at last. function is added at last of variable name.\n",
    "print(fruits)"
   ]
  },
  {
   "cell_type": "code",
   "execution_count": null,
   "id": "41ce831a-f7fb-4a4b-86f6-5f5c6649ec4b",
   "metadata": {},
   "outputs": [],
   "source": [
    "# 2. modify elements of the list\n",
    "\n",
    "fruits[0] = \"Jackfruit\"     #replaces the 0th element\n",
    "print(fruits)"
   ]
  },
  {
   "cell_type": "code",
   "execution_count": null,
   "id": "50553bea-fd0c-4029-be7d-cfc6f16e2ae7",
   "metadata": {},
   "outputs": [],
   "source": [
    "# 3. Insert element in the list without deleting already present elements \n",
    "# syntax: list_name.insert(index, \"element name\")\n",
    "fruits.insert(2, \"Strawberry\")\n",
    "\n",
    "print(fruits)"
   ]
  },
  {
   "cell_type": "code",
   "execution_count": null,
   "id": "b35d3de7-1625-4e53-9d0f-4e0c7c2a5279",
   "metadata": {},
   "outputs": [],
   "source": [
    "# 4. Delete element from list by its Index\n",
    "\n",
    "del fruits[0]           #this can also delete whole variable\n",
    "\n",
    "print(fruits)"
   ]
  },
  {
   "cell_type": "code",
   "execution_count": null,
   "id": "64dae357-fee3-490e-b590-15eb6404acf9",
   "metadata": {},
   "outputs": [],
   "source": [
    "# 5. Remove item by its position - POP()\n",
    "\n",
    "bikes = [\"yamaha\", \"honda\", \"bajaj\", \"ducati\"]\n",
    "\n",
    "removedBike = bikes.pop(1)              \n",
    "#removes element at 1th place. if nothing is mentioned in (), then 0th element will get popped up\n",
    "\n",
    "print(bikes)\n",
    "print(removedBike)          #removed element can be stored "
   ]
  },
  {
   "cell_type": "code",
   "execution_count": null,
   "id": "b14452b4-960a-4c26-a1b3-96f30dd19051",
   "metadata": {},
   "outputs": [],
   "source": [
    "# 6. Remove item by its value\n",
    "bikes.remove(\"bajaj\")\n",
    "print(bikes)"
   ]
  },
  {
   "cell_type": "markdown",
   "id": "54e4ac43-9958-4103-a935-1c13978adedd",
   "metadata": {},
   "source": [
    "### ORGANIZING A LIST"
   ]
  },
  {
   "cell_type": "code",
   "execution_count": null,
   "id": "3264c40e-58ca-46c4-94a8-2f9166e59855",
   "metadata": {},
   "outputs": [],
   "source": [
    "# 1. Sort list PERMANENTLY \n",
    "cars1 = [\"bmw\", \"ford\", \"audi\", \"honda\", \"toyota\", \"lambo\"]\n",
    "\n",
    "cars1.sort(reverse=False)        #to sort in reverse, put \"False\"\n",
    "\n",
    "print(cars1)\n",
    "# use another variable for not losing original order of list elements"
   ]
  },
  {
   "cell_type": "code",
   "execution_count": null,
   "id": "a633b664-cc8c-4467-9560-6f8fa0c34747",
   "metadata": {},
   "outputs": [],
   "source": [
    "# 2. Sort list TEMPORARILY\n",
    "cars2 = [\"bmw\", \"ford\", \"audi\", \"honda\", \"toyota\", \"lambo\"]\n",
    "\n",
    "print(\"Here is temporarily sorted list- \", sorted(cars2))\n",
    "print (\"Here is original list again -\", cars2)\n",
    "\n",
    "# NOTE: Sort will not work properly if some elements are with lowercase and some with uppercase"
   ]
  },
  {
   "cell_type": "code",
   "execution_count": null,
   "id": "3804c86b-da4d-4b47-a47d-6a39a1da7031",
   "metadata": {},
   "outputs": [],
   "source": [
    "# 3. Print list in reverse\n",
    "cars2.reverse()\n",
    "print(cars2)"
   ]
  },
  {
   "cell_type": "code",
   "execution_count": null,
   "id": "e23504fa-2885-40d6-9f2a-2b43f9ea919b",
   "metadata": {},
   "outputs": [],
   "source": [
    "# 4. Find number of elements of list\n",
    "print(len(cars2))"
   ]
  },
  {
   "cell_type": "markdown",
   "id": "1002a3b1-b4e0-4b33-99c2-74a623a70c46",
   "metadata": {},
   "source": [
    "### LIST Project"
   ]
  },
  {
   "cell_type": "code",
   "execution_count": null,
   "id": "32ae53c7-dd14-4ced-ba54-fd909cb0324e",
   "metadata": {},
   "outputs": [],
   "source": [
    "# Problem statement: Create list of guests for wedding invitation\n",
    "# Criteria 1. user should be able to add members\n",
    "# criteria 2. user should be able to view list of added members - as per sequence of added and alphabetically sorted\n",
    "# criteria 3. user should be able to delete any member \n",
    "# criteria 3. user should be able to replace member with other (keeping the sequence same)\n",
    "# criteria 4. Display total count of guests\n",
    "\n",
    "familyMembers = []\n",
    "\n",
    "member = input (\"Enter name of family member: \")\n",
    "\n",
    "print(familyMembers)\n",
    "\n",
    "def addNewMember():\n",
    "    newMember = input (\"Enter name of member: \")\n",
    "    familyMembers.append(newMember)\n",
    "\n",
    "def showList ():\n",
    "    for i in familyMembers:\n",
    "        print(i)\n",
    "\n",
    "def guestCount():\n",
    "    print(len(familyMembers))"
   ]
  }
 ],
 "metadata": {
  "kernelspec": {
   "display_name": "Python 3 (ipykernel)",
   "language": "python",
   "name": "python3"
  },
  "language_info": {
   "codemirror_mode": {
    "name": "ipython",
    "version": 3
   },
   "file_extension": ".py",
   "mimetype": "text/x-python",
   "name": "python",
   "nbconvert_exporter": "python",
   "pygments_lexer": "ipython3",
   "version": "3.11.4"
  }
 },
 "nbformat": 4,
 "nbformat_minor": 5
}
