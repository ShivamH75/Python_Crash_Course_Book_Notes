{
 "cells": [
  {
   "cell_type": "code",
   "execution_count": null,
   "id": "4f87c090-3462-4332-8ab3-7e3153f8d94a",
   "metadata": {},
   "outputs": [],
   "source": [
    "# // same type of information for multiple keys\n",
    "favLanguages = {\n",
    "    'john' : 'ruby',\n",
    "    'steven' : 'pearl',\n",
    "    'shivam' : 'python'\n",
    "} \n",
    "\n",
    "\n",
    "# // different type of information for multiple keys\n",
    "userInfo = {\n",
    "    'name' : 'Shivam',\n",
    "    'car' : 'Audi'\n",
    "}"
   ]
  }
 ],
 "metadata": {
  "kernelspec": {
   "display_name": "Python 3 (ipykernel)",
   "language": "python",
   "name": "python3"
  },
  "language_info": {
   "codemirror_mode": {
    "name": "ipython",
    "version": 3
   },
   "file_extension": ".py",
   "mimetype": "text/x-python",
   "name": "python",
   "nbconvert_exporter": "python",
   "pygments_lexer": "ipython3",
   "version": "3.11.4"
  }
 },
 "nbformat": 4,
 "nbformat_minor": 5
}
