{
 "cells": [
  {
   "cell_type": "markdown",
   "id": "659378ea-5a72-4dfa-978e-73e1c8f8f7b1",
   "metadata": {},
   "source": [
    "Data analysis uses code to explore the patterns and connections in a dataset.\n",
    "\n",
    "matplotlib - mathematical plotting library\n",
    "\n",
    "Plotly package -  generates visualizations that automatically resize to fit a variety of display devices. \n",
    "\n",
    "# type of visualizations available in matplotlib - \n",
    "https://matplotlib.org/stable/plot_types/index.html"
   ]
  },
  {
   "cell_type": "code",
   "execution_count": null,
   "id": "c838282b-f4be-455f-b1e5-bb1f608c4bf1",
   "metadata": {},
   "outputs": [],
   "source": [
    "# installing matplotlib - \n",
    "pip install matplotlib -U    #install latest version"
   ]
  },
  {
   "cell_type": "code",
   "execution_count": null,
   "id": "04916c66-0ded-423c-81c6-78e1ea5d693e",
   "metadata": {},
   "outputs": [],
   "source": [
    "## 1. Plotting a Simple Line Graph\n",
    "import matplotlib.pyplot as plt\n",
    "\n",
    "squares = [1,4,9,16,25]\n",
    "cubes = [1,8,27,64,125]\n",
    "\n",
    "\n",
    "fig, ax = plt.subplots()\n",
    "# The variable fig represents the entire figure, which is the collection of plots that are generated.\n",
    "# subplot() function can generate one or multiple plots in same figure.\n",
    "# ax.plot(squares)\n",
    "# ax represents single plot\n",
    "\n",
    "# plt.show()\n",
    "# function plt.show() opens Matplotlib’s viewer and displays the plot\n",
    "\n",
    "# customize plot\n",
    "# 1. thickness of a line \n",
    "# ax.plot(squares, linewidth=3)\n",
    "\n",
    "# 2. Set chart title and label axes.\n",
    "ax.set_title(\"Squares Plot\", fontsize=24)\n",
    "ax.set_xlabel(\"Numbers\")\n",
    "ax.set_ylabel(\"Square of the numbers\")\n",
    "\n",
    "# 3. Set size of tick labels\n",
    "ax.tick_params(labelsize=16)\n",
    "\n",
    "# plt.show()\n",
    "\n",
    "# important parameters\n",
    "# linewidth\n",
    "# fontsize\n",
    "# labelsize\n",
    "\n",
    "# NOTE: the plot starts from 0 on x-axis, so incorrect values are seen against y\n",
    "# so we need to provide x-coordinates also \n",
    "values = [1,2,3,4,5]\n",
    "ax.plot(values, squares, linewidth=2)\n",
    "ax.plot(values, cubes, linewidth=2)\n",
    "\n",
    "plt.show()"
   ]
  }
 ],
 "metadata": {
  "kernelspec": {
   "display_name": "Python 3 (ipykernel)",
   "language": "python",
   "name": "python3"
  },
  "language_info": {
   "codemirror_mode": {
    "name": "ipython",
    "version": 3
   },
   "file_extension": ".py",
   "mimetype": "text/x-python",
   "name": "python",
   "nbconvert_exporter": "python",
   "pygments_lexer": "ipython3",
   "version": "3.11.4"
  }
 },
 "nbformat": 4,
 "nbformat_minor": 5
}
