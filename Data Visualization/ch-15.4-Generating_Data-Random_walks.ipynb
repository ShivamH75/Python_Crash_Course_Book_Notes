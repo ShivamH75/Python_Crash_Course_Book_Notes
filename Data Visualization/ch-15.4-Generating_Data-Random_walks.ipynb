{
 "cells": [
  {
   "cell_type": "code",
   "execution_count": null,
   "id": "04916c66-0ded-423c-81c6-78e1ea5d693e",
   "metadata": {},
   "outputs": [],
   "source": [
    "# Random Walks\n",
    "# A random walk is a path that’s determined by a series of simple decisions, each of which is left entirely to chance. "
   ]
  }
 ],
 "metadata": {
  "kernelspec": {
   "display_name": "Python 3 (ipykernel)",
   "language": "python",
   "name": "python3"
  },
  "language_info": {
   "codemirror_mode": {
    "name": "ipython",
    "version": 3
   },
   "file_extension": ".py",
   "mimetype": "text/x-python",
   "name": "python",
   "nbconvert_exporter": "python",
   "pygments_lexer": "ipython3",
   "version": "3.11.4"
  }
 },
 "nbformat": 4,
 "nbformat_minor": 5
}
