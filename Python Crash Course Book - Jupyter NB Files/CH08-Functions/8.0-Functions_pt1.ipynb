{
 "cells": [
  {
   "cell_type": "code",
   "execution_count": 1,
   "id": "17216501-a605-43d3-8798-f9e162bda063",
   "metadata": {},
   "outputs": [],
   "source": [
    "## A function is a Reusable block of code which only runs when it is called.\n",
    "# You can pass data, known as parameters, into a function. \n",
    "# A function can return data as a result."
   ]
  },
  {
   "cell_type": "code",
   "execution_count": null,
   "id": "6b128557-203d-446e-8981-522e23a0ec5c",
   "metadata": {},
   "outputs": [],
   "source": [
    "# Structure of a function \n",
    "def greetUser():\n",
    "    '''docString: a comment which tells what does the function do'''\n",
    "    print(\"Hello User\")         # actual useful/working code\n",
    "\n",
    "greetUser() # 'function call: function is called with necessary arguments in the brackets.\n",
    "\n",
    "#'def' is the function definition. It tells name of the function and () holds the type of information it holds.\n",
    "# code beside the indentation is the 'body' of the function.\n",
    "\n",
    "def greetUserWithName (name):   # NOTE: what we pass in function definition is \"PARAMETER\" \n",
    "    \"\"\"pass parameter in the function\"\"\"\n",
    "    print (f\"Hello, {name.title()}.\")\n",
    "\n",
    "greetUserWithName('rohan')      # NOTE: what wepass in function call is \"ARGUMENT\"\n",
    "greetUserWithName('deepak')\n",
    "greetUserWithName('rahul')"
   ]
  },
  {
   "cell_type": "code",
   "execution_count": null,
   "id": "1c54cc89-baae-42ec-9e9b-d708807130f3",
   "metadata": {},
   "outputs": [],
   "source": [
    "## Ways to pass arguments in a function call \n",
    "# 1. positional arguments: the sequence of passing arguments must match the sequench in which the parameters are passed\n",
    "\n",
    "def showUserInfo(name, age, city): \n",
    "    print(f\"My name is {name.title()}. My age is {age} years. I live in {city.title()} city.\")\n",
    "\n",
    "showUserInfo('shivam', 23, 'nashik')"
   ]
  },
  {
   "cell_type": "code",
   "execution_count": null,
   "id": "d2fd86ef-f6f6-4514-9a0b-90983c23efdb",
   "metadata": {},
   "outputs": [],
   "source": [
    "# 2. 'keyword' argument: we can pass arguments while mentioning their parameters. no need to worry about sequence.\n",
    "\n",
    "showUserInfo (name=\"shivam\", city =\"MUMBAI\", age=23)\n",
    "\n",
    "\n",
    "# Default Values: we can obtain values from the arguments in the parameter itself\n",
    "\n",
    "def petInfo(petName, petType=\"dog\"): \n",
    "    print(f\"Hello, i have a {petType}, whose name is {petName}\")\n",
    "\n",
    "petInfo('rocky')                    #if 'petType' is not passed, default value from parameter will be set in argument. \n",
    "petInfo('silvester', 'cat')         #if value is passed, then it will be used.\n",
    "\n",
    "#NOTE: here, order of the parameters is very important. use parameters without default value before, then mention parameters with default value. \n",
    "# we can call function by various ways. (positional, relational, default) calls."
   ]
  }
 ],
 "metadata": {
  "kernelspec": {
   "display_name": "Python 3 (ipykernel)",
   "language": "python",
   "name": "python3"
  },
  "language_info": {
   "codemirror_mode": {
    "name": "ipython",
    "version": 3
   },
   "file_extension": ".py",
   "mimetype": "text/x-python",
   "name": "python",
   "nbconvert_exporter": "python",
   "pygments_lexer": "ipython3",
   "version": "3.11.4"
  }
 },
 "nbformat": 4,
 "nbformat_minor": 5
}
