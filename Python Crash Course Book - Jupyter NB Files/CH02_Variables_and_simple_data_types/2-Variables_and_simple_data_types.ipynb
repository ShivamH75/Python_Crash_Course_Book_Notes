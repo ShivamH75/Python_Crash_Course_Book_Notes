{
 "cells": [
  {
   "cell_type": "code",
   "execution_count": null,
   "id": "5e850890-0040-4a83-a2ba-84fd8676290e",
   "metadata": {},
   "outputs": [],
   "source": [
    "# String Methods\n",
    "\n",
    "string1 = 'sample date For test'"
   ]
  },
  {
   "cell_type": "code",
   "execution_count": null,
   "id": "65e52d6a-f452-4d3c-810d-c4bcadcd34de",
   "metadata": {},
   "outputs": [],
   "source": [
    "# 1. convert first character of each word into uppercase\n",
    "print(string1.title())"
   ]
  },
  {
   "cell_type": "code",
   "execution_count": null,
   "id": "d1dffa39-7e71-46e4-bee6-e99dc4a844d2",
   "metadata": {},
   "outputs": [],
   "source": [
    "# 2. convert all characters into uppercase\n",
    "print(string1.upper())"
   ]
  },
  {
   "cell_type": "code",
   "execution_count": null,
   "id": "0d81c4fa-781d-4923-8e24-fcb150f0650d",
   "metadata": {},
   "outputs": [],
   "source": [
    "# 3. convert all characters into lowercase\n",
    "print(string1.lower())"
   ]
  },
  {
   "cell_type": "code",
   "execution_count": null,
   "id": "492b681a-c3db-4b92-a281-855a0cea8dbd",
   "metadata": {},
   "outputs": [],
   "source": [
    "# 4. F-Strings : Insert variable values into the string\n",
    "userName = 'Shivam'\n",
    "userCity = 'Nashik'\n",
    "convertedFstring = f'{userName} is from {userCity} City'\n",
    "print(convertedFstring)"
   ]
  },
  {
   "cell_type": "code",
   "execution_count": null,
   "id": "d8ddc5da-88c4-4c28-bb0d-6c84e878fcdf",
   "metadata": {},
   "outputs": [],
   "source": [
    "# Add Whitespaces (whitespaces means non-printable characters like tabs and spaces)\n",
    "print('Languages: \\n\\tPython\\n\\tJavascript')"
   ]
  },
  {
   "cell_type": "code",
   "execution_count": null,
   "id": "71ce3858-3196-4030-98c6-7d6fcf5fa9f1",
   "metadata": {},
   "outputs": [],
   "source": [
    "# Remove Whitespaces from left and right\n",
    "string2 = \" string with whitespaces on left and right    \"\n",
    "string2_2 = string2.lstrip()\n",
    "string2_3 = string2.rstrip()\n",
    "\n",
    "print(string2_3)"
   ]
  },
  {
   "cell_type": "code",
   "execution_count": null,
   "id": "af43a58c-1922-4246-afd5-0642758ffe54",
   "metadata": {},
   "outputs": [],
   "source": [
    "# Remove prefixes and suffixes from string\n",
    "stringWithPrefixAndSuffix = 'https://wikipedia.com'\n",
    "\n",
    "print(stringWithPrefixAndSuffix.removeprefix('https://').removesuffix('.com'))"
   ]
  },
  {
   "cell_type": "code",
   "execution_count": null,
   "id": "c98f14dc-c766-4659-8f5a-910022783537",
   "metadata": {},
   "outputs": [],
   "source": [
    "# Escape with single or double quotes as a part of string \n",
    "print(\"He said \\\"Hello\\\"\")\n",
    "print('He shouted, \\'Run!\\'')   "
   ]
  },
  {
   "cell_type": "code",
   "execution_count": null,
   "id": "bf96eaa4-a742-4a05-8c7a-a1aa75c88838",
   "metadata": {},
   "outputs": [],
   "source": [
    "# format method for printing values in the string, using indexes\n",
    "name = \"Shivam\"\n",
    "company = \"Jio\"\n",
    "print(\"Hello {0}, your company is {1}!\".format(name,company))"
   ]
  },
  {
   "cell_type": "code",
   "execution_count": null,
   "id": "d65f9d4c-291e-4365-b53b-0d1d8f7c03e6",
   "metadata": {},
   "outputs": [],
   "source": [
    "# Numbers \n",
    "# 1. To represent power - use double **\n",
    "print(2**3)         # cube of 2\n",
    "\n",
    "# 2. calculations take place as per BODMAS rule\n",
    "print(2 + 5*8 -2)\n",
    "\n",
    "# 3. int + float combinations\n",
    "print(4.0/2.0)          # float / float = float\n",
    "print(4/2)          # int / int = float"
   ]
  },
  {
   "cell_type": "code",
   "execution_count": null,
   "id": "f6d08277-930c-4084-913d-29d482bc1451",
   "metadata": {},
   "outputs": [],
   "source": [
    "# Misc info \n",
    "# 1. Assign multiple variables in a single line\n",
    "x,y,z = 'Hello', 23, 3.14\n",
    "print (x,y,z)\n",
    "\n",
    "# 2. Provide underscre in numbers for better readibility - will get ignored in code\n",
    "oneCrore = 1_00_00_000\n",
    "print(oneCrore)\n",
    "\n",
    "# 3. CONSTANTS - Py dont have inbuilt constant types, but CAPS can be used as good practice\n",
    "PI_VALUE = 3.14"
   ]
  },
  {
   "cell_type": "code",
   "execution_count": null,
   "id": "11e34b86-b46f-451c-bd46-d726a7a6a303",
   "metadata": {},
   "outputs": [],
   "source": [
    "# 4. Zen of Python - Philosophy to write code. in py interpreter, write \n",
    "# import this"
   ]
  }
 ],
 "metadata": {
  "kernelspec": {
   "display_name": "Python 3 (ipykernel)",
   "language": "python",
   "name": "python3"
  },
  "language_info": {
   "codemirror_mode": {
    "name": "ipython",
    "version": 3
   },
   "file_extension": ".py",
   "mimetype": "text/x-python",
   "name": "python",
   "nbconvert_exporter": "python",
   "pygments_lexer": "ipython3",
   "version": "3.11.4"
  }
 },
 "nbformat": 4,
 "nbformat_minor": 5
}
