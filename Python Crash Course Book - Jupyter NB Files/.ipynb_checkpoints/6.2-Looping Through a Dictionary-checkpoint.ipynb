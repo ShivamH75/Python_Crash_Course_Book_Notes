{
 "cells": [
  {
   "cell_type": "code",
   "execution_count": null,
   "id": "e328599f-b904-421f-8615-0b1137c07502",
   "metadata": {},
   "outputs": [],
   "source": [
    "# Looping Through All KEY-VALUE Pairs\n",
    "# Looping through all key-value pairs works particularly well for dictionaries which stores the same kind of information for many different keys. \n",
    "sample_dict = {\n",
    "    'name': 'John Doe',\n",
    "    'age': 30,\n",
    "    'city': 'New York',\n",
    "    'email': 'johndoe@example.com',\n",
    "    'is_employed': False\n",
    "}\n",
    "\n",
    "for key, value in sample_dict.items():      # method 'items()' is used in dictionaries to return sequence of key-value pairs\n",
    "    print(f\"\\nKey = {key}\")\n",
    "    print(f\"Value = {value}\")"
   ]
  },
  {
   "cell_type": "code",
   "execution_count": null,
   "id": "c3042eb0-d291-4877-a5a6-5a79ca0d234c",
   "metadata": {},
   "outputs": [],
   "source": [
    "favLanguages = {\n",
    "    'john' : 'ruby',\n",
    "    'steven' : 'peaRl',\n",
    "    'shivam' : 'pyThOn'\n",
    "} \n",
    "\n",
    "for user, lang in favLanguages.items():\n",
    "    print(f\"Favourite language of {user.title()} is {lang.title()}\")"
   ]
  },
  {
   "cell_type": "code",
   "execution_count": null,
   "id": "61137cdd-7b66-4dea-851f-ac34bb89be19",
   "metadata": {},
   "outputs": [],
   "source": []
  },
  {
   "cell_type": "code",
   "execution_count": null,
   "id": "ab1356d8-688a-4ca4-b0c2-4906f4c4c9fc",
   "metadata": {},
   "outputs": [],
   "source": [
    "#  Looping Through All the KEYS in a Dictionary\n",
    "favLanguages1 = {\n",
    "    'john' : 'ruby',\n",
    "    'steven' : 'peaRl',\n",
    "    'shivam' : 'pyThOn',\n",
    "    'sachin' : 'c',\n",
    "    'pratham' : 'c++',\n",
    "    'rohan': 'java',\n",
    "    'manoj' : 'assembly',\n",
    "    'pravin' : 'cotlin',\n",
    "    'PranaY' : 'javascript',\n",
    "    'rishikesh' : 'ABab',\n",
    "    'harry': 'python',\n",
    "    'dhiraj' : 'python'\n",
    "} \n",
    "\n",
    "# print names of all the keys\n",
    "for name in favLanguages1.keys():\n",
    "# for name in favLanguages1:        #This will give same output, because keys is the default behaviour when looping through dictionary\n",
    "    print(name)\n",
    "\n",
    "# Work with keys, conditionally obtain input if key is present in dictionary\n",
    "friends = ['shivam', 'manoj']\n",
    "for name in favLanguages1.keys():\n",
    "    print(f\"Hello {name}!!\")\n",
    "\n",
    "    if name in friends:\n",
    "        print(f\"Ohh, {name}!! it seems your fav lang is {favLanguages1.get(name)}\")\n",
    "\n",
    "# 'keys()' method also returns sequence of keys\n",
    "seq = 1\n",
    "for name in favLanguages1.keys():\n",
    "    print(f\"{seq}. {name.title()}\")\n",
    "    seq = seq + 1\n",
    "\n",
    "for name in sorted(favLanguages1.keys()):      #print keys in ascending order\n",
    "    print(f\"{seq}. {name.title()}\")\n",
    "    seq = seq + 1"
   ]
  },
  {
   "cell_type": "code",
   "execution_count": null,
   "id": "e7c43071-204f-4b0e-9af0-113b49f4c4e1",
   "metadata": {},
   "outputs": [],
   "source": [
    "#  Looping Through All the VALUES in a Dictionary\n",
    "#  we can print all the values using the 'values()' method\n",
    "print(\"following programming languages has been mentioned: \")\n",
    "for val in sorted(favLanguages1.values()):\n",
    "    print(val.title(), end=\" \")\n",
    "\n",
    "# print unique values using 'set'\n",
    "print(\"\\n\")\n",
    "for val in sorted(set(favLanguages1.values())):\n",
    "    print(val.title(), end=\" \")"
   ]
  }
 ],
 "metadata": {
  "kernelspec": {
   "display_name": "Python 3 (ipykernel)",
   "language": "python",
   "name": "python3"
  },
  "language_info": {
   "codemirror_mode": {
    "name": "ipython",
    "version": 3
   },
   "file_extension": ".py",
   "mimetype": "text/x-python",
   "name": "python",
   "nbconvert_exporter": "python",
   "pygments_lexer": "ipython3",
   "version": "3.11.4"
  }
 },
 "nbformat": 4,
 "nbformat_minor": 5
}
