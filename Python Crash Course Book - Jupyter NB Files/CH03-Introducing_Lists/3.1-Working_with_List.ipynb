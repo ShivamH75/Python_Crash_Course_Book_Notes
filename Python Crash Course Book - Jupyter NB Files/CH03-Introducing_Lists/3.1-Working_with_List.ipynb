{
 "cells": [
  {
   "cell_type": "code",
   "execution_count": 10,
   "id": "7cfe274a-0dd1-4cee-8b36-e2d3c59323a3",
   "metadata": {},
   "outputs": [
    {
     "name": "stdout",
     "output_type": "stream",
     "text": [
      "BMW\n",
      "FORD\n",
      "AUDI\n",
      "HONDA\n",
      "TOYOTA\n",
      "LAMBORGHINI\n"
     ]
    }
   ],
   "source": [
    "# # Looping through lists:\n",
    "# Print every element of the list\n",
    "\n",
    "cars = [\"bmw\", \"ford\", \"audi\", \"honda\", \"toyota\", \"lamborghini\"]\n",
    "\n",
    "for car in cars:\n",
    "    print(car.upper())\n",
    "# for every car in 'cars' print the name of the car"
   ]
  },
  {
   "cell_type": "code",
   "execution_count": 11,
   "id": "255d093b",
   "metadata": {},
   "outputs": [
    {
     "name": "stdout",
     "output_type": "stream",
     "text": [
      "1 2 3 4 5 6 7 8 9 "
     ]
    }
   ],
   "source": [
    "# in range() function to generate sequence of numbers\n",
    "for num in range (1,10):    # NOTE: last value will not be printed. Suggested to use (last_index + 1) approach\n",
    "    print(num, end=\" \")\n",
    "\n",
    "# NOTE: The end parameter is set to a space ' ', which ensures that the next item will be printed on the same line with a space separating them."
   ]
  },
  {
   "cell_type": "code",
   "execution_count": 12,
   "id": "80dbe205",
   "metadata": {},
   "outputs": [
    {
     "name": "stdout",
     "output_type": "stream",
     "text": [
      "0\n",
      "2\n",
      "4\n",
      "6\n",
      "8\n",
      "10\n"
     ]
    }
   ],
   "source": [
    "# Generate numbers with steps:\n",
    "for num in range (0, 11, 2):        # syntax>> range(first_required_number, last_required_number+1, step_value_for_skip)\n",
    "    print(num)"
   ]
  },
  {
   "cell_type": "code",
   "execution_count": 16,
   "id": "684d4e12",
   "metadata": {},
   "outputs": [
    {
     "name": "stdout",
     "output_type": "stream",
     "text": [
      "[0, 1, 2, 3, 4, 5, 6, 7, 8, 9, 10]\n",
      "[1, 4, 9, 16, 25, 36, 49, 64, 81, 100]\n"
     ]
    }
   ],
   "source": [
    "# USE RANGE TO GENERATE LIST OF NUMBERS:\n",
    "numList = list(range(0,11))     # numList variable will get assigned value of List\n",
    "print(numList)\n",
    "\n",
    "# Append numbers in the list\n",
    "squaredList =[]\n",
    "for nos in range(1,11):\n",
    "    squaredList.append(nos**2)\n",
    "\n",
    "print(squaredList)"
   ]
  },
  {
   "cell_type": "markdown",
   "id": "d9608079",
   "metadata": {},
   "source": [
    "### Other List Functions"
   ]
  },
  {
   "cell_type": "code",
   "execution_count": 14,
   "id": "1c74d18b",
   "metadata": {},
   "outputs": [
    {
     "name": "stdout",
     "output_type": "stream",
     "text": [
      "0\n",
      "9\n",
      "45\n"
     ]
    }
   ],
   "source": [
    "sampleList = [1,2,3,4,5,6,7,8,9,0]\n",
    "\n",
    "# find minimum number in list\n",
    "print(min(sampleList))\n",
    "\n",
    "# find maximum number in list\n",
    "print(max(sampleList))\n",
    "\n",
    "# find sum of all numbers in the list\n",
    "print(sum(sampleList))"
   ]
  },
  {
   "cell_type": "markdown",
   "id": "f40ea568-856e-4b89-bdd2-38de6cbaeed5",
   "metadata": {},
   "source": [
    "### Practice Project: Print sum of numbers between 1 to 10"
   ]
  },
  {
   "cell_type": "code",
   "execution_count": 1,
   "id": "95b8a110-a306-4de1-9087-e167578f9031",
   "metadata": {},
   "outputs": [
    {
     "name": "stdout",
     "output_type": "stream",
     "text": [
      "55\n"
     ]
    }
   ],
   "source": [
    "# step1: create empty list\n",
    "exampleList = []\n",
    "\n",
    "# step2: add numbers between 1 and 100 in the list\n",
    "for number in range(1, 11):\n",
    "    exampleList.append(number)\n",
    "\n",
    "# step3: use sum() function to get sum of numbers in the list\n",
    "sumOfList = sum(exampleList)\n",
    "print(sumOfList)"
   ]
  },
  {
   "cell_type": "markdown",
   "id": "c6b125ec-b2a9-4e26-a925-ac636a53bfb0",
   "metadata": {},
   "source": [
    "### LIST SLICING : lists[m:n]"
   ]
  },
  {
   "cell_type": "code",
   "execution_count": null,
   "id": "ae4cd266-6769-4be7-9a07-a1fa03ea1b6b",
   "metadata": {},
   "outputs": [],
   "source": [
    "fruits = ['0apple', '1banana', '2orange', '3grape', '4watermelon', '5kiwi', '6pineapple', '7mango', '8strawberry', '9pear']\n",
    "\n",
    "# 1. slice list from mth to nth element\n",
    "fruits1 = fruits[2:7]       #7th element will not printed\n",
    "print(fruits1)\n",
    "\n",
    "# 2. slicing list from FIRST to nth element\n",
    "fruits2 = fruits[8:]\n",
    "print(fruits2)\n",
    "\n",
    "# 3. slicing list from nth to LAST element\n",
    "fruits3 = fruits[5:]\n",
    "print(fruits3)\n",
    "\n",
    "# 4. slicing list from 3rd last to LAST element\n",
    "fruits4 = fruits[-3:]\n",
    "print(fruits4)\n",
    "\n",
    "#  SLICING in for LOOP:\n",
    "food_items = ['pizza', 'burger', 'sushi', 'pasta', 'taco', 'salad', 'steak', 'ramen', 'fried chicken', 'ice cream']\n",
    "\n",
    "print(\"first 3 foods in the list are: \")\n",
    "for food in food_items[0:3]:\n",
    "    print(food)\n",
    "\n",
    "#  COPYING a LIST\n",
    "my_cars = ['Toyota', 'Honda', 'Ford', 'Chevrolet', 'BMW']\n",
    "your_cars = my_cars[:]     \n",
    " #if copied without [:], same data will get added in next operations\n",
    "\n",
    "my_cars.append(\"Audi\")\n",
    "your_cars.append(\"Hyundai\")\n",
    "\n",
    "print(my_cars)\n",
    "print(your_cars)"
   ]
  },
  {
   "cell_type": "markdown",
   "id": "50a376d2-8780-4698-93c5-bb27c16b726f",
   "metadata": {},
   "source": [
    "## Tuples in Python\n",
    "In Python, a tuple is a built-in data type that is used to store an ordered, immutable sequence of elements. Key features of tuples include:\n",
    "\n",
    "Immutable: Once a tuple is created, you cannot modify its contents. This is in contrast to lists, which are mutable.\n",
    "\n",
    "Ordered: Like lists, tuples maintain the order of elements, meaning the order in which elements are added is preserved.\n",
    "\n",
    "Heterogeneous: Tuples can contain elements of different data types. For example, you can have integers, strings, and other data types in the same tuple.\n",
    "\n",
    "Indexed: Elements in a tuple are accessed using indexing, and indexing starts at 0 for the first element.\n",
    "\n",
    "Allows Duplicates: Tuples can contain duplicate elements."
   ]
  },
  {
   "cell_type": "code",
   "execution_count": 5,
   "id": "8fc2796d-363e-489a-94d0-cb3fc2c15d0b",
   "metadata": {},
   "outputs": [
    {
     "name": "stdout",
     "output_type": "stream",
     "text": [
      "Print complete tuple:  ('Samosa', 'Pakora', 'Aloo Tikki', 'Papdi Chaat', 'Dahi Vada')\n",
      "Print 1st item of the tuple:  Samosa\n",
      "Print 3rd item of the tuple:  Papdi Chaat \n",
      "\n"
     ]
    }
   ],
   "source": [
    "#  Understand with example; Lists can be helpful for building menu items of Hotel, where items keeps on changing.\n",
    "#  Tuples can be used to build menu of Restaurant, where menu items are fixed.\n",
    "\n",
    "# Tuple Syntax\n",
    "restaurantMenu = (\"Samosa\", \"Pakora\", \"Aloo Tikki\", \"Papdi Chaat\", \"Dahi Vada\")\n",
    "\n",
    "# Print items of Tuple \n",
    "print(\"Print complete tuple: \", restaurantMenu)\n",
    "print(\"Print 1st item of the tuple: \", restaurantMenu[0])\n",
    "print(\"Print 3rd item of the tuple: \", restaurantMenu[3],'\\n')"
   ]
  },
  {
   "cell_type": "code",
   "execution_count": 6,
   "id": "0c97d497",
   "metadata": {},
   "outputs": [
    {
     "name": "stdout",
     "output_type": "stream",
     "text": [
      "Samosa\n",
      "Pakora\n",
      "Aloo Tikki\n",
      "Papdi Chaat\n",
      "Dahi Vada\n"
     ]
    }
   ],
   "source": [
    "# Looping through Tuple\n",
    "for food in restaurantMenu:\n",
    "    print(food)"
   ]
  },
  {
   "cell_type": "code",
   "execution_count": 7,
   "id": "07502d53",
   "metadata": {},
   "outputs": [
    {
     "name": "stdout",
     "output_type": "stream",
     "text": [
      "Old Menu:  ('Samosa', 'Pakora', 'Aloo Tikki', 'Papdi Chaat', 'Dahi Vada')\n",
      "New Menu:  ('Aloo Tikki', 'Papdi Chaat', 'Dahi Vada', 'Samosa', 'Pakora')\n"
     ]
    }
   ],
   "source": [
    "# Change a tuple: Redefine the tuple and its values to change it.\n",
    "print(\"Old Menu: \", restaurantMenu)\n",
    "\n",
    "restaurantMenu = (\"Aloo Tikki\", \"Papdi Chaat\", \"Dahi Vada\", \"Samosa\", \"Pakora\")\n",
    "print(\"New Menu: \", restaurantMenu)"
   ]
  }
 ],
 "metadata": {
  "kernelspec": {
   "display_name": "Python 3 (ipykernel)",
   "language": "python",
   "name": "python3"
  },
  "language_info": {
   "codemirror_mode": {
    "name": "ipython",
    "version": 3
   },
   "file_extension": ".py",
   "mimetype": "text/x-python",
   "name": "python",
   "nbconvert_exporter": "python",
   "pygments_lexer": "ipython3",
   "version": "3.12.1"
  }
 },
 "nbformat": 4,
 "nbformat_minor": 5
}
