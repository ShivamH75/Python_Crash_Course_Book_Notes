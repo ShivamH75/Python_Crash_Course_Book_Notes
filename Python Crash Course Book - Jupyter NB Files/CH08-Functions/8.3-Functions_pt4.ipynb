{
 "cells": [
  {
   "cell_type": "markdown",
   "id": "5a920263-073e-4cf7-849a-e984b36d7b6a",
   "metadata": {},
   "source": [
    "### Passing an Arbitrary Number of Arguments (Arbitrary meaning - random choice, any)"
   ]
  },
  {
   "cell_type": "code",
   "execution_count": null,
   "id": "4dea12b0-c7b8-4fef-ace5-190a0f86c162",
   "metadata": {},
   "outputs": [],
   "source": [
    "# Arbitrary means user can pass any number of arguments against 1 defined parameter\n",
    "# use the asterisk (*) before the parameter name  \n",
    "\n",
    "def pizzaToppings(*toppings):\n",
    "    print(\"your pizza has these toppings: \")\n",
    "    print(toppings)\n",
    "\n",
    "pizzaToppings('onion')\n",
    "pizzaToppings('olive', 'cheese')\n",
    "\n",
    "# # the arguments are put inside a set by Python\n",
    "# op ->   ('olive', 'cheese')\n",
    "\n",
    "# to print the each Arbitrary argument\n",
    "def pizzaToppingList(*toppings):\n",
    "    print('Your pizza has the following toppings: ')\n",
    "    for topping in toppings:\n",
    "        print(topping.title())\n",
    "\n",
    "pizzaToppingList('onion')\n",
    "pizzaToppingList('olive', 'cheese', 'capsicum', 'mushroom')"
   ]
  },
  {
   "cell_type": "code",
   "execution_count": null,
   "id": "d29b3cd2-bbcf-4e5f-8732-b2ea56a4c36b",
   "metadata": {},
   "outputs": [],
   "source": [
    "# # Mixing Positional and Arbitrary Arguments\n",
    "# it is suggested to use positional, relational and then any other type of arguments\n",
    "\n",
    "# eg. function to recieve fixed info in one parameter, and arbitrary info in another parameters\n",
    "def mixedPizza(size, category, *toppings):\n",
    "    print(f\"Your {size} sized {category} pizza has following toppings: \")\n",
    "    for topping in toppings:\n",
    "        print(topping.title())\n",
    "\n",
    "mixedPizza('medium', 'veg', 'capsicum', 'olive', 'chillie')\n",
    "# # here, the first 2 arguments acts as positional arguments, later all followed by Arbitrary\n",
    "# however, if we use relational arguments with Arbitrary arguments, we get error - SyntaxError: positional argument follows keyword argument"
   ]
  },
  {
   "cell_type": "code",
   "execution_count": null,
   "id": "05c5be18-56a4-4153-b2a6-d2a31337eb0d",
   "metadata": {},
   "outputs": [],
   "source": [
    "## Using Arbitrary Keyword Arguments\n",
    "# consider for storing key-value type data in dict, there is a case that some pairs are known, but many k-v pairs can be Arbitrary. \n",
    "# so we use \"Arbitrary Keyword Arguments\", which has two * before the parameter name\n",
    "\n",
    "# def userDict(name, surname, **allOther):\n",
    "#     newDict = {}\n",
    "#     name = input(\"Enter your name: \")\n",
    "#     surname = input(\"Enter your surname: \")\n",
    "#     anyOtherInfo = input(\"Do you wanted to add any other info (y/n)? \")\n",
    "#     if anyOtherInfo == 'y':\n",
    "#         newInputField = input(\"Add field name: \")\n",
    "#         newInputValue = input(\"Add field value: \")\n",
    "#     else:\n",
    "#         print(\"thank you\")\n",
    "\n",
    "#     newDict['name'] = name\n",
    "#     newDict['surname'] = surname     .................... practice problem"
   ]
  },
  {
   "cell_type": "code",
   "execution_count": null,
   "id": "35cbcd02-7dce-41be-bafd-ba1d532d7afa",
   "metadata": {},
   "outputs": [],
   "source": [
    "def build_profile(first, last, **user_info):\n",
    "    \"\"\"Build a dictionary containing everything we know about a user.\"\"\"\n",
    "    user_info['first_name'] = first\n",
    "    user_info['last_name'] = last\n",
    "    return user_info                         #returns all other values as dict\n",
    "\n",
    "\n",
    "user_profile = build_profile('albert', 'einstein', location='princeton',field='physics')\n",
    "print(user_profile)\n",
    "# positional args will be displayed at the end in the o/p"
   ]
  }
 ],
 "metadata": {
  "kernelspec": {
   "display_name": "Python 3 (ipykernel)",
   "language": "python",
   "name": "python3"
  },
  "language_info": {
   "codemirror_mode": {
    "name": "ipython",
    "version": 3
   },
   "file_extension": ".py",
   "mimetype": "text/x-python",
   "name": "python",
   "nbconvert_exporter": "python",
   "pygments_lexer": "ipython3",
   "version": "3.11.4"
  }
 },
 "nbformat": 4,
 "nbformat_minor": 5
}
