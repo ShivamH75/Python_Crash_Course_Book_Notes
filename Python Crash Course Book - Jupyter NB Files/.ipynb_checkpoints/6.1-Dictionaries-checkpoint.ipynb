{
 "cells": [
  {
   "cell_type": "code",
   "execution_count": null,
   "id": "014d99aa-c7bd-41bc-ab84-451ddba4a06b",
   "metadata": {},
   "outputs": [],
   "source": [
    "# Dictionaries help to  connect related information\n",
    "# Formt of dictioary is Key-Value pairs in Curly Brackets\n",
    "\n",
    "sampleDict = {\n",
    "    'name': \"Shivam\",\n",
    "    'hobby': \"Coding\",\n",
    "    \"Age\" : 23\n",
    "}\n",
    "\n",
    "for item in sampleDict:\n",
    "    print (sampleDict[item])\n",
    "\n",
    "#  To Add new key-values in existing dictionary\n",
    "#  format :: dictName['newKey'] = 'newValue'\n",
    "\n",
    "sampleDict['company'] = 'Mars ASSOCIATION'\n",
    "sampleDict['Car'] = 'Audi R8'\n",
    "\n",
    "print (sampleDict)\n",
    "\n",
    "#  To modify value of any kwy within a dictionary\n",
    "sampleDict['Car'] = 'Mercedes Benz G-Wagon'\n",
    "print (sampleDict)\n",
    "\n",
    "#  To Delete Entire key-value pair - use 'del' keyword and keyname within []\n",
    "\n",
    "del sampleDict['company']\n",
    "print(sampleDict)\n",
    "\n",
    "# Store one type of info of many ojects\n",
    "favLanguages = {\n",
    "    'john' : 'ruby',\n",
    "    'steven' : 'pearl',\n",
    "    'shivam' : 'pythOn'\n",
    "} \n",
    "\n",
    "print(f\"Shivam's fav language is {favLanguages['shivam'].title()}\")\n",
    "\n",
    "#  if the we mention some key which is not in dictionary, we get 'KeyError'\n",
    "# print(f\"Shivam's fav language is {favLanguages['rahul'].title()}\")    \n",
    "\n",
    "#  To handle situation when key is not preset in dictionary, use the 'get()' method\n",
    "print(f\"Shivam's fav language is {favLanguages.get('rahul')}\")   #by default it returns 'None'\n",
    "print(f\"Shivam's fav language is {favLanguages.get('rahul', 'Key not found')}\")         #we can also assign the message if the key is not found"
   ]
  }
 ],
 "metadata": {
  "kernelspec": {
   "display_name": "Python 3 (ipykernel)",
   "language": "python",
   "name": "python3"
  },
  "language_info": {
   "codemirror_mode": {
    "name": "ipython",
    "version": 3
   },
   "file_extension": ".py",
   "mimetype": "text/x-python",
   "name": "python",
   "nbconvert_exporter": "python",
   "pygments_lexer": "ipython3",
   "version": "3.11.4"
  }
 },
 "nbformat": 4,
 "nbformat_minor": 5
}
