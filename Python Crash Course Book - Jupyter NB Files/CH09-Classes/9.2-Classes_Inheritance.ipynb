{
 "cells": [
  {
   "cell_type": "markdown",
   "id": "4ba9c0bf-c194-4ced-9d4a-1544d001a686",
   "metadata": {},
   "source": [
    "### **INHERITANCE**\n",
    "* If the class you’re writing is a specialized version of another class you wrote, you can use inheritance. \n",
    "* When one class inherits from another, it takes on the attributes and methods of the first class. \n",
    "* The original class is called the parent/super class, and the new class is the child/sub class. \n",
    "* The child class can inherit any or all of the attributes and methods of its parent class, but it’s also free to define new attributes and methods of its own.\n"
   ]
  },
  {
   "cell_type": "code",
   "execution_count": null,
   "id": "d9e9808c-57af-41a6-bdb1-6e96c07d46c8",
   "metadata": {},
   "outputs": [],
   "source": [
    "class Car:\n",
    "    \"\"\"A simple attempt to represent a car.\"\"\"\n",
    "    def __init__(self, make, model, year):\n",
    "        \"\"\"Initialize attributes to describe a car.\"\"\"\n",
    "        self.make = make\n",
    "        self.model = model\n",
    "        self.year = year\n",
    "\n",
    "    def getCarDetails(self):\n",
    "        '''method to describe a car'''        \n",
    "        print(f\"| CarName: {self.model} | CarBrand: {self.make} | CarYear: {self.year} |\")\n",
    "\n",
    "myCar = Car('Honda', 'City', 2008)\n",
    "myCar.getCarDetails()\n"
   ]
  },
  {
   "cell_type": "code",
   "execution_count": null,
   "id": "34868903-311b-45a0-aa76-2be1e0bf3639",
   "metadata": {},
   "outputs": [],
   "source": [
    "#creating a new child class from original parent class\n",
    "class ElectricCar(Car):\n",
    "    def __init__(self, make, model, year):\n",
    "        \"\"\"Initialize attributes of the parent class.\"\"\"\n",
    "        super().__init__(make, model, year)       \n",
    "        # The super() function is a special function that allows you to call a method from the parent class. \n",
    "        # This line tells Python to call the __init__() method from Car, which gives an ElectricCar instance all the attributes defined in that method.    \n",
    "              \n",
    "        # self.power = power                              # child class can also have its own attribute\n",
    "\n",
    "    def evSpecialMethod(self, batteryCapacity):\n",
    "        self.batteryCapacity = batteryCapacity\n",
    "        print(f\"Battery capacity of {self.make}-{self.model} ({self.year}) is {batteryCapacity} kW-Hr.\")\n",
    "\n",
    "myEV = ElectricCar('Nissan', 'Leaf', 2023)\n",
    "\n",
    "myEV.getCarDetails()        #instance created from child class can use all the methods of parent class\n",
    "\n",
    "myEV.evSpecialMethod(150)       # child class can have its own methods"
   ]
  },
  {
   "cell_type": "code",
   "execution_count": null,
   "id": "0da35e2c-12f2-4e33-8e4f-5d4f470f497d",
   "metadata": {},
   "outputs": [],
   "source": [
    "## Overriding Methods from the Parent Class\n",
    "# consider there is one method in parent class, which is not useful in child class.\n",
    "# to override the parent class method, simply create new method in child class with same name\n",
    "#  priority will be given to method of child class, if instance is created from child class."
   ]
  },
  {
   "cell_type": "code",
   "execution_count": null,
   "id": "5f85832c-3d50-4340-8523-12366b47f9e8",
   "metadata": {},
   "outputs": [],
   "source": [
    "class Pizza:\n",
    "    def __init__(self):\n",
    "        pass\n",
    "\n",
    "    '''method needs to be defined as static methods using the @staticmethod decorator, since they don't need to access \"instance-specific\" attributes.'''\n",
    "    @staticmethod\n",
    "    def VegMenu():\n",
    "        print(\"Options for Veg toppings: Paneer, Onion, Mushroom\")\n",
    "    \n",
    "    @staticmethod\n",
    "    def NonVegMenu():\n",
    "        print(\"Options for Non-Veg toppings: Chicken, Bacon, Papperoni\")\n",
    "\n",
    "class VegPizza(Pizza):\n",
    "    def __init__(self):\n",
    "        super().__init__()\n",
    "\n",
    "    @staticmethod\n",
    "    def NonVegMenu():\n",
    "        print(\"Strictly veg toppings..\")\n",
    "\n",
    "myPizza = VegPizza()\n",
    "\n",
    "myPizza.NonVegMenu()"
   ]
  },
  {
   "cell_type": "code",
   "execution_count": null,
   "id": "a3735219-3ed0-4b9f-aa83-2f1a6a59650f",
   "metadata": {},
   "outputs": [],
   "source": [
    "# Instances as Attributes\n",
    "#  You can break your large class into smaller classes that work together; this approach is called \"composition\".\n",
    "#  If we find that we are adding more attributes and methods to one class only, we can create seperate class for it.\n",
    "## use case: we created ElectricCar class, and wanted to use Battery class in it. which is specific."
   ]
  },
  {
   "cell_type": "code",
   "execution_count": null,
   "id": "58ae12cd-3d7c-4b7d-b7ca-7d7a243d7116",
   "metadata": {},
   "outputs": [],
   "source": [
    "class Battery:\n",
    "    def __init__(self, capacity = 35):\n",
    "        self.capacity = capacity\n",
    "\n",
    "    def BatCapacity(self):\n",
    "        print(f\"Capacity of battery is {self.capacity} kW-Hr.\")\n",
    "\n",
    "    def getRange(self):\n",
    "        if self.capacity <= 50:\n",
    "            print(f\"For battery capacity {self.capacity} kW-Hr, range is 100 miles\")\n",
    "        else:\n",
    "            print(f\"For battery capacity {self.capacity} kW-Hr, range is 200 miles\")\n",
    "\n",
    "\n",
    "class EleCar(Car):\n",
    "    def __init__(self, make, model, year):\n",
    "\n",
    "        super().__init__(make, model, year)\n",
    "        self.capacity = Battery()\n",
    "        '''self.capacity is an attribute, which is assigned as a new instance of Battery() class'''\n",
    "\n",
    "\n",
    "myLeaf = EleCar(\"Tesla\", \"Roadster\", 2021)\n",
    "\n",
    "myLeaf.getCarDetails()\n",
    "myLeaf.capacity.BatCapacity()           #syntax: instanceName.attributeName.methodName()\n",
    "myLeaf.capacity.getRange()"
   ]
  },
  {
   "cell_type": "code",
   "execution_count": null,
   "id": "d1567e0f-4064-45ee-ae24-3bcf3f292cda",
   "metadata": {},
   "outputs": [],
   "source": [
    "# Importing Classes\n",
    "# 1. Importing a Single Class\n",
    "# step 1: create a seperate file, include the parent class in it \n",
    "# step 2: in the working file, import the required class - \n",
    "# from <moduleName> import <className>\n",
    "# step 3: create instance, assign attributes to it\n",
    "# step 4: assign methods to the instance\n",
    "\n",
    "# Storing Multiple Classes in a Module - multiple classes can be stored in same file, even if they are of parent-child type\n",
    "\n",
    "# 2. Importing Multiple Classes from a Module\n",
    "#  syntax: from <moduleName> import <class1Name>, <class2Name>, <class3Name>\n",
    "\n",
    "# 3. Importing an Entire Module\n",
    "#  syntax: import <moduleName>\n",
    "\n",
    "# 4. Importing All Classes from a Module            # methid not recommended\n",
    "#  from <moduleName> import *                  # asterick imports all the classes \n",
    "\n",
    "# 5. Importing a Module into a Module\n",
    "# (look more in details)                e.g. below\n",
    "# from car import Car\n",
    "# from electric_car import ElectricCar\n",
    "\n",
    "\n",
    "## Using Aliases - can be used if conflict exists in file names\n",
    "# from <moduleName> import <className> as <classAliasName>"
   ]
  }
 ],
 "metadata": {
  "kernelspec": {
   "display_name": "Python 3 (ipykernel)",
   "language": "python",
   "name": "python3"
  },
  "language_info": {
   "codemirror_mode": {
    "name": "ipython",
    "version": 3
   },
   "file_extension": ".py",
   "mimetype": "text/x-python",
   "name": "python",
   "nbconvert_exporter": "python",
   "pygments_lexer": "ipython3",
   "version": "3.11.4"
  }
 },
 "nbformat": 4,
 "nbformat_minor": 5
}
