{
 "cells": [
  {
   "cell_type": "code",
   "execution_count": null,
   "id": "c144c2e7-4bbb-490f-bbd2-382f00df39b5",
   "metadata": {},
   "outputs": [],
   "source": [
    "# Dictionaries help to  connect related information\n",
    "# Formt of dictioary is Key-Value pairs in Curly Brackets"
   ]
  },
  {
   "cell_type": "code",
   "execution_count": null,
   "id": "68847aac-2a6a-47ef-b1b8-9f47f765164e",
   "metadata": {},
   "outputs": [],
   "source": [
    "sampleDict = {\n",
    "    'name': \"Shivam\",\n",
    "    'hobby': \"Coding\",\n",
    "    \"Age\" : 23\n",
    "}\n",
    "\n",
    "for item in sampleDict:\n",
    "    print (sampleDict[item])"
   ]
  },
  {
   "cell_type": "code",
   "execution_count": null,
   "id": "a5b57726-8938-4a83-b9f4-cc14237984a5",
   "metadata": {},
   "outputs": [],
   "source": [
    "#  To Add new key-values in existing dictionary\n",
    "#  format :: dictName['newKey'] = 'newValue'\n",
    "\n",
    "sampleDict['company'] = 'Mars ASSOCIATION'\n",
    "sampleDict['Car'] = 'Audi R8'\n",
    "\n",
    "print (sampleDict)"
   ]
  },
  {
   "cell_type": "code",
   "execution_count": null,
   "id": "ad1a3eda-068f-4ea3-b9b8-a9ab9dff0439",
   "metadata": {},
   "outputs": [],
   "source": [
    "#  To modify value of any kwy within a dictionary\n",
    "sampleDict['Car'] = 'Mercedes Benz G-Wagon'\n",
    "print (sampleDict)"
   ]
  },
  {
   "cell_type": "code",
   "execution_count": null,
   "id": "8cabe75b-181f-4491-a737-e48aee6b23c1",
   "metadata": {},
   "outputs": [],
   "source": [
    "#  To Delete Entire key-value pair - use 'del' keyword and keyname within []\n",
    "\n",
    "del sampleDict['company']\n",
    "print(sampleDict)"
   ]
  },
  {
   "cell_type": "code",
   "execution_count": null,
   "id": "87e688fe-86e4-4665-bce0-1e932ae8b50f",
   "metadata": {},
   "outputs": [],
   "source": [
    "# Store one type of info of many ojects\n",
    "favLanguages = {\n",
    "    'john' : 'ruby',\n",
    "    'steven' : 'pearl',\n",
    "    'shivam' : 'pythOn'\n",
    "} \n",
    "\n",
    "print(f\"Shivam's fav language is {favLanguages['shivam'].title()}\")"
   ]
  },
  {
   "cell_type": "code",
   "execution_count": null,
   "id": "014d99aa-c7bd-41bc-ab84-451ddba4a06b",
   "metadata": {},
   "outputs": [],
   "source": [
    "#  if the we mention some key which is not in dictionary, we get 'KeyError'\n",
    "# print(f\"Shivam's fav language is {favLanguages['rahul'].title()}\")    \n",
    "\n",
    "#  To handle situation when key is not preset in dictionary, use the 'get()' method\n",
    "print(f\"Shivam's fav language is {favLanguages.get('rahul')}\")   #by default it returns 'None'\n",
    "print(f\"Shivam's fav language is {favLanguages.get('rahul', 'Key not found')}\")         #we can also assign the message if the key is not found"
   ]
  }
 ],
 "metadata": {
  "kernelspec": {
   "display_name": "Python 3 (ipykernel)",
   "language": "python",
   "name": "python3"
  },
  "language_info": {
   "codemirror_mode": {
    "name": "ipython",
    "version": 3
   },
   "file_extension": ".py",
   "mimetype": "text/x-python",
   "name": "python",
   "nbconvert_exporter": "python",
   "pygments_lexer": "ipython3",
   "version": "3.11.4"
  }
 },
 "nbformat": 4,
 "nbformat_minor": 5
}
