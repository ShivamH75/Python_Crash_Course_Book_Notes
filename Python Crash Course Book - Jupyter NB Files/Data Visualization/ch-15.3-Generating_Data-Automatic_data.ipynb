{
 "cells": [
  {
   "cell_type": "code",
   "execution_count": null,
   "id": "b31660fb-0961-4a13-9e3f-f72ff1c4f15d",
   "metadata": {},
   "outputs": [],
   "source": [
    "import matplotlib.pyplot as plt"
   ]
  },
  {
   "cell_type": "code",
   "execution_count": null,
   "id": "04916c66-0ded-423c-81c6-78e1ea5d693e",
   "metadata": {},
   "outputs": [],
   "source": [
    "# Calculating Data Automatically\n",
    "# using loop to plot squares of numbers from 1 to 1000\n",
    "\n",
    "x_val = range(1, 21)\n",
    "y_val = [(x**2) for x in x_val]     # syntax:: for x in x_val: return x**2\n",
    "\n",
    "ax = plt.subplot()\n",
    "\n",
    "plt.plot(x_val, y_val, color = 'red')\n",
    "plt.scatter(x_val, y_val, color='blue',)       \n",
    "\n",
    "# to colour the plot, pass 'color' argument with colour name in quotation\n",
    "# to pass custom rgb color- color=(r_val, g_val, b_val)\n",
    "\n",
    "# Set the range for each axis.\n",
    "ax.axis([0, 20, 0, 400])        #=> ax.axis(min_x_val, max_x_val, min_y_val, max_y_val)\n",
    "\n",
    "ax.ticklabel_format(style='plain')      # tick-label styling function\n",
    "\n",
    "plt.show()"
   ]
  },
  {
   "cell_type": "markdown",
   "id": "97358184-ddec-4bfc-9019-f541033bf2e4",
   "metadata": {},
   "source": [
    "## Using a Colormap: \n",
    "A colormap is a sequence of colors in a gradient that moves from a starting to an ending color. \n",
    "light colour indicates low value and darker value indicates higher value.\n",
    "\n",
    "Syntax: \n",
    "ax.scatter(x_val, y_val, c=y_val, cmap=plt.cm.Blues)\n",
    "\n",
    "c argument is used to assign sequence of colors with sequence mapping\n",
    "then we pass colormap to use with the cmap argument"
   ]
  },
  {
   "cell_type": "code",
   "execution_count": null,
   "id": "63fba225-04ac-4d90-b25f-45a1c2390b4d",
   "metadata": {},
   "outputs": [],
   "source": [
    "x_val = range(1, 21)\n",
    "y_val = [(x**2) for x in x_val]\n",
    "\n",
    "ax = plt.subplot()\n",
    "\n",
    "plt.plot(x_val, y_val, color = 'red')\n",
    "ax.scatter(x_val, y_val, c=y_val, cmap=plt.cm.Blues)\n",
    "\n",
    "plt.show()"
   ]
  },
  {
   "cell_type": "markdown",
   "id": "79b761b5-a75b-4c0d-9741-33a2a1f0c78e",
   "metadata": {},
   "source": [
    "# Saving Your Plots Automatically: \n",
    "directly save plots instead of displaying\n",
    "\n",
    "plt.savefig('folderName/fileName.extension', 'arg to trim extra white space')"
   ]
  },
  {
   "cell_type": "code",
   "execution_count": null,
   "id": "8e166b5c-4192-4a86-8412-41b11ea9abd4",
   "metadata": {},
   "outputs": [],
   "source": [
    "x_val = range(1, 21)\n",
    "y_val = [(x**2) for x in x_val]\n",
    "\n",
    "ax = plt.subplot()\n",
    "\n",
    "plt.plot(x_val, y_val, color = 'r')\n",
    "ax.scatter(x_val, y_val)\n",
    "\n",
    "plt.savefig('squares_plot.png')"
   ]
  }
 ],
 "metadata": {
  "kernelspec": {
   "display_name": "Python 3 (ipykernel)",
   "language": "python",
   "name": "python3"
  },
  "language_info": {
   "codemirror_mode": {
    "name": "ipython",
    "version": 3
   },
   "file_extension": ".py",
   "mimetype": "text/x-python",
   "name": "python",
   "nbconvert_exporter": "python",
   "pygments_lexer": "ipython3",
   "version": "3.11.4"
  }
 },
 "nbformat": 4,
 "nbformat_minor": 5
}
