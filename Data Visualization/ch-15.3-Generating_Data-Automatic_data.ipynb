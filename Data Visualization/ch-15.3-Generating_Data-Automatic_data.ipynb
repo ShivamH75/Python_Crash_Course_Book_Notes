{
 "cells": [
  {
   "cell_type": "code",
   "execution_count": null,
   "id": "04916c66-0ded-423c-81c6-78e1ea5d693e",
   "metadata": {},
   "outputs": [],
   "source": [
    "# Calculating Data Automatically\n",
    "\n",
    "import matplotlib.pyplot as plt\n",
    "\n",
    "# using loop to plot squares of numbers from 1 to 1000\n",
    "\n",
    "x_val = range(1, 21)\n",
    "y_val = [(x**2) for x in x_val]     # syntax:: for x in x_val: return x**2\n",
    "\n",
    "ax = plt.subplot()\n",
    "\n",
    "plt.plot(x_val, y_val, color = 'red')\n",
    "plt.scatter(x_val, y_val, color='blue',)         \n",
    "# to colour the plot, pass 'color' argument with colour name in quotation\n",
    "# to pass custom rgb color- color=(r_val, g_val, b_val)\n",
    "\n",
    "\n",
    "# Set the range for each axis.\n",
    "ax.axis([0, 20, 0, 400])        #=> ax.axis(min_x_val, max_x_val, min_y_val, max_y_val)\n",
    "\n",
    "ax.ticklabel_format(style='plain')      # tick-label styling function\n",
    "\n",
    "# plt.show()\n",
    "\n",
    "\n",
    "## Using a Colormap: A colormap is a sequence of colors in a gradient that moves from a starting to an ending color. \n",
    "# light colour indicates low value and darker value indicates higher value \n",
    "\n",
    "ax.scatter(x_val, y_val, c=y_val, cmap=plt.cm.Blues)\n",
    "# c argument is used to assign sequence of colors with sequence mapping\n",
    "# then we pass colormap to use with the cmap argument\n",
    "\n",
    "plt.show()\n",
    "\n",
    "\n",
    "\n",
    "## Saving Your Plots Automatically: directly save plots instead of displaying\n",
    "\n",
    "plt.savefig('squares_plot.png')\n",
    "# plt.savefig('folderName/fileName.extension', 'arg to trim extra white space')\n",
    "\n"
   ]
  }
 ],
 "metadata": {
  "kernelspec": {
   "display_name": "Python 3 (ipykernel)",
   "language": "python",
   "name": "python3"
  },
  "language_info": {
   "codemirror_mode": {
    "name": "ipython",
    "version": 3
   },
   "file_extension": ".py",
   "mimetype": "text/x-python",
   "name": "python",
   "nbconvert_exporter": "python",
   "pygments_lexer": "ipython3",
   "version": "3.11.4"
  }
 },
 "nbformat": 4,
 "nbformat_minor": 5
}
