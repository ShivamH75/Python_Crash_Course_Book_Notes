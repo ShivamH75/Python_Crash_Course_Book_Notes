{
 "cells": [
  {
   "cell_type": "markdown",
   "id": "14bab6d4-9a0a-4fdf-bd8f-db8e512e4d57",
   "metadata": {},
   "source": [
    "### 1. People: Make two new dictionaries representing different people, and store all three dictionaries in a list called people. Loop through your list of people. As you loop through the list, print everything you know about each person."
   ]
  },
  {
   "cell_type": "markdown",
   "id": "bafd8007-153f-48bc-9dfd-d878ceec5990",
   "metadata": {},
   "source": [
    "### 2. Pets: Make several dictionaries, where each dictionary represents a different pet. In each dictionary, include the kind of animal and the owner's name. Store these dictionaries in a list called pets. Next, loop through your list and as you do, print everything you know about each pet."
   ]
  },
  {
   "cell_type": "markdown",
   "id": "adc651e4-4ec8-489d-974e-cb53ba106992",
   "metadata": {},
   "source": [
    "### 3. Favorite Places: Make a dictionary called favorite_places. Think of three names to use as keys in the dictionary, and store one to three favorite places for each person. To make this exercise a bit more interesting, ask some friends to name a few of their favorite places. Loop through the dictionary, and print each person's name and their favorite places."
   ]
  },
  {
   "cell_type": "markdown",
   "id": "11c4d490-c89d-4afb-ad47-39e805b160ea",
   "metadata": {},
   "source": [
    "### 4. Favorite Numbers: Modify your program from Exercise, so each person can have more than one favorite number. Then print each person's name along with their favorite numbers."
   ]
  },
  {
   "cell_type": "markdown",
   "id": "fed7d462-b84b-44f6-94e4-42dde8dd4be5",
   "metadata": {},
   "source": [
    "### 5. Cities: Make a dictionary called cities. Use the names of three cities as keys in your dictionary. Create a dictionary of information about each city and include the country that the city is in, its approximate population, and one fact about that city. The keys for each city's dictionary should be something like country, population, and fact. Print the name of each city and all of the information you have stored about it."
   ]
  },
  {
   "cell_type": "markdown",
   "id": "47f49175-5f54-4f24-aeb4-ce618c2add96",
   "metadata": {},
   "source": [
    "### 6. Extensions: We're now working with examples that are complex enough that they can be extended in any number of ways. Use one of the example programs from this chapter, and extend it by adding new keys and values, changing the context of the program, or improving the formatting of the output"
   ]
  }
 ],
 "metadata": {
  "kernelspec": {
   "display_name": "Python 3 (ipykernel)",
   "language": "python",
   "name": "python3"
  },
  "language_info": {
   "codemirror_mode": {
    "name": "ipython",
    "version": 3
   },
   "file_extension": ".py",
   "mimetype": "text/x-python",
   "name": "python",
   "nbconvert_exporter": "python",
   "pygments_lexer": "ipython3",
   "version": "3.11.4"
  }
 },
 "nbformat": 4,
 "nbformat_minor": 5
}
