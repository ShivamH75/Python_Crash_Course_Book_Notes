{
 "cells": [
  {
   "cell_type": "code",
   "execution_count": null,
   "id": "999e184a-3a14-483c-a685-c1791aa418dc",
   "metadata": {},
   "outputs": [],
   "source": [
    "from random import randint\n",
    "\n",
    "# creating a class that will gererate random number between 1 to 6\n",
    "class Die:\n",
    "    def __init__ (self, no_Sides = 6):\n",
    "        self.no_Sides = no_Sides\n",
    "\n",
    "    def rollDie(self):\n",
    "        return randint(1, self.no_Sides)"
   ]
  },
  {
   "cell_type": "code",
   "execution_count": null,
   "id": "4fe667d3-3847-4c18-8105-bc792d3fecb2",
   "metadata": {},
   "outputs": [],
   "source": [
    "from plotly.graph_objs import Bar, Layout\n",
    "from plotly import offline\n",
    "\n",
    "# Create two D6 dice.\n",
    "die_1 = Die()\n",
    "die_2 = Die()\n",
    "\n",
    "# Make some rolls, and store results in a list.\n",
    "results = []\n",
    "for roll_num in range(1000):\n",
    "    result = die_1.rollDie() + die_2.rollDie()\n",
    "    results.append(result)\n",
    " \n",
    "# Analyze the results.\n",
    "frequencies = []\n",
    "max_result = die_1.no_Sides + die_2.no_Sides\n",
    "for value in range(2, max_result+1):\n",
    "    frequency = results.count(value)\n",
    "    frequencies.append(frequency)\n",
    " \n",
    "# Visualize the results.\n",
    "\n",
    "# Define custom colors for each bar\n",
    "shades_of_red = ['#FFEBEE', '#FFCDD2', '#EF9A9A','#E57373','#EF5350','#F44336','#E53935','#D32F2F','#C62828','#B71C1C',  '#D50000', '#B71C1C']\n",
    "\n",
    "x_values = list(range(2, max_result+1))\n",
    "data = [Bar(x=x_values, y=frequencies, marker=dict(color=shades_of_red))]\n",
    "\n",
    "x_axis_config = {'title': 'Result', 'dtick': 1}\n",
    "y_axis_config = {'title': 'Frequency of Result'}\n",
    "my_layout = Layout(title='Results of rolling two D6 dice 1000 times', xaxis=x_axis_config, yaxis=y_axis_config)\n",
    "offline.plot({'data': data, 'layout': my_layout}, filename='d6_d6.html')"
   ]
  },
  {
   "cell_type": "code",
   "execution_count": null,
   "id": "a5e67b5c-4395-4e01-ac9c-f6212fc196e9",
   "metadata": {},
   "outputs": [],
   "source": []
  }
 ],
 "metadata": {
  "kernelspec": {
   "display_name": "Python 3 (ipykernel)",
   "language": "python",
   "name": "python3"
  },
  "language_info": {
   "codemirror_mode": {
    "name": "ipython",
    "version": 3
   },
   "file_extension": ".py",
   "mimetype": "text/x-python",
   "name": "python",
   "nbconvert_exporter": "python",
   "pygments_lexer": "ipython3",
   "version": "3.11.4"
  }
 },
 "nbformat": 4,
 "nbformat_minor": 5
}
