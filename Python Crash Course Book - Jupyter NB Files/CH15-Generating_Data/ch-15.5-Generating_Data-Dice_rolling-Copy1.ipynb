{
 "cells": [
  {
   "cell_type": "markdown",
   "id": "ac34e611-c02e-4114-90fd-8df715819c94",
   "metadata": {},
   "source": [
    "# Rolling Dice with Plotly\n",
    "Plotly is particularly useful when you’re creating visualiza￾tions that will be displayed in a browser, because the visualizations will scale \n",
    "automatically to fit the viewer’s screen\n",
    "Visualizations that Plotly generate are also interactive."
   ]
  },
  {
   "cell_type": "markdown",
   "id": "b093b5ad-ab82-44bd-9aa2-6f3e0a559249",
   "metadata": {},
   "source": [
    "Installing plotly:\n",
    "pip install plotly -U"
   ]
  },
  {
   "cell_type": "code",
   "execution_count": null,
   "id": "305259ca-6db0-4278-a59e-1645018c42de",
   "metadata": {},
   "outputs": [],
   "source": [
    "from random import randint\n",
    "\n",
    "# creating a class that will gererate random number between 1 to 6\n",
    "class Die:\n",
    "    def __init__ (self, no_Sides = 6):\n",
    "        self.no_Sides = no_Sides\n",
    "\n",
    "    def rollDie(self):\n",
    "        return randint(1, self.no_Sides)\n",
    "\n",
    "newRoll = Die()\n",
    "\n",
    "# storing the random roll results in list\n",
    "RollResults = []\n",
    "\n",
    "for result_list in range(100):\n",
    "    result = newRoll.rollDie()\n",
    "    RollResults.append(result)\n",
    "\n",
    "print(RollResults)\n",
    "    "
   ]
  },
  {
   "cell_type": "code",
   "execution_count": null,
   "id": "2be97634-25e5-4df9-8ca6-1ddbb2a10e80",
   "metadata": {},
   "outputs": [],
   "source": [
    "# count the frequency of each value\n",
    "\n",
    "from collections import Counter\n",
    "\n",
    "# Count the occurrences of each value in the list\n",
    "value_counts = Counter(RollResults)\n",
    "\n",
    "print(value_counts)\n",
    "\n",
    "# # Print the counts\n",
    "# for value, count in value_counts.items():\n",
    "#     print(f\"{value}: {count} times\")"
   ]
  },
  {
   "cell_type": "code",
   "execution_count": 21,
   "id": "42c6d8da-c4dc-4388-9308-dc8ff8afc566",
   "metadata": {},
   "outputs": [
    {
     "name": "stdout",
     "output_type": "stream",
     "text": [
      "[20, 16, 13, 16, 15, 20]\n"
     ]
    }
   ],
   "source": [
    "# Analyze the results.\n",
    "frequencies = []\n",
    "for value in range(1, newRoll.no_Sides+1):\n",
    "    frequency = RollResults.count(value)\n",
    "    frequencies.append(frequency)\n",
    "\n",
    "print(frequencies)"
   ]
  },
  {
   "cell_type": "markdown",
   "id": "60416008-9815-412f-9d01-af2fd6ab94fa",
   "metadata": {},
   "source": [
    "# Making a Histogram\r\n",
    "With a list of frequencies, we can make a histogram of the results. A hist￾gram is a bar chart showing how often certain results occur. \n",
    "step 1: import the required libraries\n",
    "\n",
    "step 2: Specify the values on x-axis. Must be in a list format.\n",
    "\n",
    "step 3: Use Bar() class of Plotly and mention the x and y values\n",
    "\n",
    "step 4: create a layout that will include title of graph, title of x and y axis\n",
    "\n",
    "step 5: To generate the plot, we call the offline.plot() function.\n",
    "This function needs a dictionary containing the data and layout objects, and it also \n",
    "accepts a name for the file where the graph will be saved.\n"
   ]
  },
  {
   "cell_type": "code",
   "execution_count": 25,
   "id": "046b6960-0cca-4e04-820d-a6019fdf6c68",
   "metadata": {},
   "outputs": [
    {
     "data": {
      "text/plain": [
       "'d6.html'"
      ]
     },
     "execution_count": 25,
     "metadata": {},
     "output_type": "execute_result"
    }
   ],
   "source": [
    "from plotly.graph_objs import Bar, Layout\n",
    "from plotly import offline\n",
    "\n",
    "# Visualize the results.\n",
    "x_values = list(range(1, newRoll.no_Sides+1))\n",
    "my_data = [Bar(x=x_values, y=frequencies)]\n",
    "\n",
    "#x_axis_config = {'title': 'Result'}\n",
    "#y_axis_config = {'title': 'Frequency of Result'}\n",
    "my_layout = Layout(title='Results of rolling one D6 1000 times', xaxis={'title': 'Result'}, yaxis={'title': 'Frequency of Result'})\n",
    "\n",
    "offline.plot({'data': my_data, 'layout': my_layout}, filename='d6.html')\n"
   ]
  },
  {
   "cell_type": "code",
   "execution_count": null,
   "id": "999e184a-3a14-483c-a685-c1791aa418dc",
   "metadata": {},
   "outputs": [],
   "source": []
  }
 ],
 "metadata": {
  "kernelspec": {
   "display_name": "Python 3 (ipykernel)",
   "language": "python",
   "name": "python3"
  },
  "language_info": {
   "codemirror_mode": {
    "name": "ipython",
    "version": 3
   },
   "file_extension": ".py",
   "mimetype": "text/x-python",
   "name": "python",
   "nbconvert_exporter": "python",
   "pygments_lexer": "ipython3",
   "version": "3.11.4"
  }
 },
 "nbformat": 4,
 "nbformat_minor": 5
}
