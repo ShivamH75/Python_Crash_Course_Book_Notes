{
 "cells": [
  {
   "cell_type": "code",
   "execution_count": null,
   "id": "5f39a0ae-551f-4432-9199-11d581a626ed",
   "metadata": {},
   "outputs": [],
   "source": [
    "# Return value: the value that the function returns after processing.\n",
    "\n",
    "def nameFormatter (firstName, lastName):\n",
    "    \"\"\"function to return full name in title case\"\"\"\n",
    "    return (f\"{firstName.title()} {lastName.title()}\")\n",
    "\n",
    "print(nameFormatter('amol', 'SiNgH'))"
   ]
  },
  {
   "cell_type": "code",
   "execution_count": null,
   "id": "7c6771a5-a493-47a3-b8b5-5025380968ca",
   "metadata": {},
   "outputs": [],
   "source": [
    "# Making an Argument Optional\n",
    "#we can include additional parameters in function, which might not be always required by user in arguments\n",
    "\n",
    "def fullName(first, last, middle=''):           # optional parameter is defined as in \n",
    "    \"\"\"return full name of the user, middle name is optional\"\"\"\n",
    "    if middle:\n",
    "        return(f\"{first} {middle} {last}\") \n",
    "    else: \n",
    "        return(f\"{first} {last}\")\n",
    "\n",
    "    # return(f\" {first} {middle} {last}\")       # will get 2 spaces if middlename is not mentioned\n",
    "\n",
    "print (fullName('akash', 'bodke'))\n",
    "print (fullName('akash', 'bodke', 'mohan'))"
   ]
  },
  {
   "cell_type": "code",
   "execution_count": null,
   "id": "5ce9ee98-24d4-4fd1-b20a-48d0f1672206",
   "metadata": {},
   "outputs": [],
   "source": [
    "# return a dictionary from function \n",
    "def returnDict(name, middleName, lastName):\n",
    "    dict1 = {}\n",
    "    dict1['First Name'] = name \n",
    "    dict1['Middle Name'] = middleName\n",
    "    dict1['Last Name'] = lastName\n",
    "    return dict1\n",
    "\n",
    "newDict = returnDict('shivam', 'ashok', 'hundekari') \n",
    "print(newDict)"
   ]
  },
  {
   "cell_type": "code",
   "execution_count": null,
   "id": "9099e93f-7793-4372-8db3-ab3c9a3b5a59",
   "metadata": {},
   "outputs": [],
   "source": [
    "# return a dictionary from function - use optional parameter\n",
    "\n",
    "def returnDict(name, middleName, lastName, age = None): \n",
    "    \"\"\"age as optional parameter\"\"\"\n",
    "    dict1= {}\n",
    "    dict1['First Name'] = name \n",
    "    dict1['Middle Name'] = middleName\n",
    "    dict1['Last Name'] =  lastName\n",
    "\n",
    "    if age:\n",
    "        dict1['Age'] = age          # use if-else if optional parameter exists\n",
    "\n",
    "    return dict1\n",
    "\n",
    "newDict = returnDict('shivam', 'ashok', 'hundekari')\n",
    "print (newDict)"
   ]
  },
  {
   "cell_type": "code",
   "execution_count": null,
   "id": "d75c3154-314b-41e4-8f12-d446ace3a95a",
   "metadata": {},
   "outputs": [],
   "source": [
    "#while loop in a function\n",
    "\n",
    "def getName(): \n",
    "    while True:\n",
    "        print(\"please provide your info. press q to quit.\") \n",
    "        name = input(\"Enter your Name: \")\n",
    "        if name == 'q':\n",
    "            break\n",
    "        surname = input(\"Enter your Surname: \") \n",
    "        if surname == 'q':\n",
    "            break\n",
    "        \n",
    "        print(f\"Hello, {name.title()} {surname.title()}\")\n",
    "        \n",
    "\n",
    "getName()       #function runs as a while loop"
   ]
  }
 ],
 "metadata": {
  "kernelspec": {
   "display_name": "Python 3 (ipykernel)",
   "language": "python",
   "name": "python3"
  },
  "language_info": {
   "codemirror_mode": {
    "name": "ipython",
    "version": 3
   },
   "file_extension": ".py",
   "mimetype": "text/x-python",
   "name": "python",
   "nbconvert_exporter": "python",
   "pygments_lexer": "ipython3",
   "version": "3.11.4"
  }
 },
 "nbformat": 4,
 "nbformat_minor": 5
}
