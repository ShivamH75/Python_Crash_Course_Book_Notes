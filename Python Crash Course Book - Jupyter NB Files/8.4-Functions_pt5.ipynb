{
 "cells": [
  {
   "cell_type": "code",
   "execution_count": null,
   "id": "19958ab1-ff95-4f9d-8d87-f0eca4348969",
   "metadata": {},
   "outputs": [],
   "source": [
    "# Storing Your Functions in Modules\n",
    "# 'module' meaning - module - a unit that forms part of something bigger\n",
    "#  functions can be kept seperated and stored in seperate file called module\n",
    "\n",
    "# 'import' statement can be used to bring the function in the file we are working in \n",
    "\n",
    "#  in the working directory, add name of the file containing the functions\n",
    "# To call a function from an imported module, enter the name of the module you imported, pizza, followed by the name of the function, make separated by a dot, \n",
    "# e.g. moduleName.functionName(arg1, arg2)\n",
    "\n",
    "import pizza\n",
    "\n",
    "pizza.createPizza(24, \"non-veg\", 'onion', 'pepperoni')\n",
    "\n",
    "\n",
    "\n",
    "## We can also import specific functions from a Module\n",
    "# syntax -    from module_name import function_name\n",
    "# doing so, we dont need to add dot notation before the module name\n",
    "\n",
    "from pizza import showToppings\n",
    " \n",
    "showToppings('nonveg') \n",
    "\n",
    "## Using 'as' to Give a Function an Alias\n",
    "# if there is some function or module in our file which has same name, we can use 'as'    \n",
    "\n",
    "from pizza import calculate_pizza_price as cal_pz_pr          # giving alias to 'function' name\n",
    "\n",
    "cal_pz_pr('large', 'onion', 'olive', 'cheese')\n",
    "\n",
    "\n",
    "\n",
    "import pizza as pz                                  # giving alias to 'module' name\n",
    "\n",
    "pz.showToppings('mixed')\n",
    "\n",
    "\n",
    "\n",
    "## Importing All Functions in a Module\n",
    "# use * symbol\n",
    "\n",
    "from pizza import *\n",
    "\n",
    "# However, The best approach is to import the function or functions you want, or import the entire module and use the dot notation"
   ]
  }
 ],
 "metadata": {
  "kernelspec": {
   "display_name": "Python 3 (ipykernel)",
   "language": "python",
   "name": "python3"
  },
  "language_info": {
   "codemirror_mode": {
    "name": "ipython",
    "version": 3
   },
   "file_extension": ".py",
   "mimetype": "text/x-python",
   "name": "python",
   "nbconvert_exporter": "python",
   "pygments_lexer": "ipython3",
   "version": "3.11.4"
  }
 },
 "nbformat": 4,
 "nbformat_minor": 5
}
