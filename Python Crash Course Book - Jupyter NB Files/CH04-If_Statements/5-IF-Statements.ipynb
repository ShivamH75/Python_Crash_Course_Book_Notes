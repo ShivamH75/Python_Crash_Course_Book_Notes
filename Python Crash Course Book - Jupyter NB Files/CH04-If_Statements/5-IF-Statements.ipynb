{
 "cells": [
  {
   "cell_type": "code",
   "execution_count": null,
   "id": "8d62488d-74f7-42da-8dd3-71fb3d91ee74",
   "metadata": {},
   "outputs": [],
   "source": [
    "cars = ['honda', 'suzuki', 'ducati']\n",
    "\n",
    "for car in cars:\n",
    "    if car == 'honda':\n",
    "        print(\"honda is present in the cars list!\")\n",
    "cars = ['honda', 'suzuki', 'ducati', 'bmw']\n",
    "\n",
    "for car in cars:\n",
    "    if car == 'bmw':\n",
    "        print(car.upper())\n",
    "    else:\n",
    "        print(car.title())\n",
    "\n",
    "# Output >>\n",
    "# Honda\n",
    "# Suzuki\n",
    "# Ducati\n",
    "# BMW\n",
    "\n",
    "# The first car in the list is 'honda'. Since it is not equal to 'bmw', the else branch of the if statement is executed. car.title() converts the string to title case, where the first letter is capitalized and the rest are lowercase. Therefore, the output is 'Honda'.\n",
    "\n",
    "# The second car is 'suzuki', which is also not equal to 'bmw'. Hence, the else branch is executed again, resulting in the output 'Suzuki'.\n",
    "\n",
    "# The third car is 'ducati', and as before, it is not equal to 'bmw'. The else branch is executed, producing the output 'Ducati'.\n",
    "\n",
    "# The last car in the list is 'bmw', which matches the condition car == 'bmw'. Consequently, the if branch is executed. car.upper() converts the string to uppercase, resulting in the output 'BMW'.\n",
    "\n",
    "#  each items is iterated and checked for If/Else condition\n",
    "\n",
    "#  Q. from a list of usernames, check if entered username matches with the names in the list. Consider that entered username is checked without considering upper/lower cases in it.\n",
    "#  Q. have a standard list of pizza toppings. take a list of toppings from customer. compare both lists. inform chef to add which toppings if match is found. inform customer if match is not found from both the list.\n",
    "\n",
    "# dominos_toppings = ['onion', 'tomato', 'mushroom', 'capsicum']\n",
    "\n",
    "# my_toppings = ['onion', 'tomato']\n",
    "\n",
    "# if my_toppings in dominos_toppings:\n",
    "#     print(\"your pizza is ready with toppings\")\n",
    "# else:\n",
    "#     print(\"not available\")"
   ]
  },
  {
   "cell_type": "code",
   "execution_count": null,
   "id": "c7329134-1dde-467c-a4d6-0f29cb501e83",
   "metadata": {},
   "outputs": [],
   "source": [
    "#  check if a value is present in the list. use keyword = 'in'\n",
    "dominos_toppings = ['onion', 'tomato', 'mushroom', 'capsicum']\n",
    "my_requested_topping = 'onion'\n",
    "\n",
    "if my_requested_topping in dominos_toppings:\n",
    "    print(f\"{my_requested_topping.title()} is present in the Menu\")"
   ]
  },
  {
   "cell_type": "code",
   "execution_count": null,
   "id": "b405c492-80a3-443a-aab1-47f1844eaa50",
   "metadata": {},
   "outputs": [],
   "source": [
    "#  check if a value is not present in the list. use keyword = 'not'\n",
    "my_requested_topping = 'pineapple'\n",
    "\n",
    "if my_requested_topping not in dominos_toppings:\n",
    "    print(f\"{my_requested_topping.title()} is not present in the Menu\")"
   ]
  },
  {
   "cell_type": "code",
   "execution_count": null,
   "id": "0bcb0c09-1947-4649-bcff-e2f7e05722fe",
   "metadata": {},
   "outputs": [],
   "source": [
    "#  if-elif-else ladder to determine stage of a person as per his age\n",
    "# <2 baby;  2-4 toddler; 4-13 kid; 13-18 teenager; 18-65 elder; 65+ elder\n",
    "# user_age = int(input(\"Enter your age: \"))\n",
    "\n",
    "# if (user_age < 2):\n",
    "#     stage = 'baby'\n",
    "# elif (user_age < 4):\n",
    "#     stage = 'toddler'\n",
    "# elif (user_age < 13):\n",
    "#     stage = 'kid'\n",
    "# elif (user_age < 18):\n",
    "#     stage = 'teenager'\n",
    "# elif (user_age < 65):\n",
    "#     stage = 'adult'\n",
    "# else:\n",
    "#     stage = 'elder'\n",
    "\n",
    "# print(f\"Your stage of life is {stage.title()}\")"
   ]
  },
  {
   "cell_type": "code",
   "execution_count": null,
   "id": "28e8924f-75c0-4b4e-b3db-b30cdd04fd0c",
   "metadata": {},
   "outputs": [],
   "source": [
    "#  way to check values of one list are present in sencond list\n",
    "dominos_toppings = ('onion', 'tomato', 'cheese', 'mushroom', 'capsicum')    #can be made as set, as toppings list is fixed and non-modifiable by dominos\n",
    "\n",
    "my_requested_toppings = ['onion', 'chillie', 'tomato', 'paneer', 'cheese']\n",
    "\n",
    "# use for loop to iterate each item\n",
    "for my_topping in my_requested_toppings:\n",
    "    if my_topping in dominos_toppings:\n",
    "        print(f\"Adding {my_topping} on pizza\")\n",
    "\n",
    "    else:\n",
    "        print(f\"Sorry {my_topping} is not available\")\n",
    "print(\"Finished making your pizza!!\")\n",
    "```"
   ]
  }
 ],
 "metadata": {
  "kernelspec": {
   "display_name": "Python 3 (ipykernel)",
   "language": "python",
   "name": "python3"
  },
  "language_info": {
   "codemirror_mode": {
    "name": "ipython",
    "version": 3
   },
   "file_extension": ".py",
   "mimetype": "text/x-python",
   "name": "python",
   "nbconvert_exporter": "python",
   "pygments_lexer": "ipython3",
   "version": "3.11.4"
  }
 },
 "nbformat": 4,
 "nbformat_minor": 5
}
