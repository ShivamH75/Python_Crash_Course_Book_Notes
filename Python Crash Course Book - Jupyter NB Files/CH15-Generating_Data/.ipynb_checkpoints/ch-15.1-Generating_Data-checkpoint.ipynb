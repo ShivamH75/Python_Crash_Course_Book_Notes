{
 "cells": [
  {
   "cell_type": "markdown",
   "id": "659378ea-5a72-4dfa-978e-73e1c8f8f7b1",
   "metadata": {},
   "source": [
    "Data analysis uses code to explore the patterns and connections in a dataset.\n",
    "\n",
    "matplotlib - mathematical plotting library\n",
    "\n",
    "Plotly package -  generates visualizations that automatically resize to fit a variety of display devices. \n",
    "\n",
    "# type of visualizations available in matplotlib - \n",
    "https://matplotlib.org/stable/plot_types/index.html"
   ]
  },
  {
   "cell_type": "markdown",
   "id": "f756318e-c4e5-4ddc-b605-5742ff4447ed",
   "metadata": {},
   "source": [
    "# installing matplotlib - \n",
    "pip install matplotlib -U    #install latest version"
   ]
  },
  {
   "cell_type": "code",
   "execution_count": null,
   "id": "04916c66-0ded-423c-81c6-78e1ea5d693e",
   "metadata": {},
   "outputs": [],
   "source": [
    "## 1. Plotting a Simple Line Graph\n",
    "import matplotlib.pyplot as plt\n",
    "\n",
    "squares = [1,4,9,16,25]\n",
    "cubes = [1,8,27,64,125]\n",
    "\n",
    "\n",
    "fig, ax = plt.subplots()\n",
    "# The variable fig represents the entire figure, which is the collection of plots that are generated.\n",
    "# subplot() function can generate one or multiple plots in same figure.\n",
    "# ax.plot(squares)\n",
    "# ax represents single plot\n",
    "\n",
    "# plt.show()\n",
    "# function plt.show() opens Matplotlib’s viewer and displays the plot\n",
    "\n",
    "# customize plot\n",
    "# 1. thickness of a line \n",
    "# ax.plot(squares, linewidth=3)\n",
    "\n",
    "# 2. Set chart title and label axes.\n",
    "ax.set_title(\"Squares Plot\", fontsize=24)\n",
    "ax.set_xlabel(\"Numbers\")\n",
    "ax.set_ylabel(\"Square of the numbers\")\n",
    "\n",
    "# 3. Set size of tick labels\n",
    "ax.tick_params(labelsize=16)\n",
    "\n",
    "# important parameters\n",
    "# linewidth\n",
    "# fontsize\n",
    "# labelsize\n",
    "\n",
    "# NOTE: the plot starts from 0 on x-axis, so incorrect values are seen against y\n",
    "# so we need to provide x-coordinates also \n",
    "values = [1,2,3,4,5]\n",
    "ax.plot(values, squares)\n",
    "ax.plot(values, cubes)       # using hexcode to define color\n",
    "\n",
    "plt.show()"
   ]
  },
  {
   "cell_type": "code",
   "execution_count": null,
   "id": "c01ac765-5055-4178-b62b-765f78ef1c45",
   "metadata": {},
   "outputs": [],
   "source": [
    "# set legend and labels\n",
    "\n",
    "numbers = [1,2,3,4,5]\n",
    "squares = [1,4,9,16,25]\n",
    "cubes = [1,8,27,64,125]\n",
    "\n",
    "fig, ax = plt.subplots()\n",
    "\n",
    "# define the legend in the 'label' tag\n",
    "ax.plot(numbers, numbers, label = 'original numbers')\n",
    "ax.plot(numbers, squares,  label = 'Squares')\n",
    "ax.plot(numbers, cubes,  label = 'Cubes')\n",
    "\n",
    "ax.legend()\n",
    "\n",
    "plt.show()"
   ]
  },
  {
   "cell_type": "code",
   "execution_count": null,
   "id": "e30cc37e-bf3f-42e7-8345-004055e144fc",
   "metadata": {},
   "outputs": [],
   "source": []
  }
 ],
 "metadata": {
  "kernelspec": {
   "display_name": "Python 3 (ipykernel)",
   "language": "python",
   "name": "python3"
  },
  "language_info": {
   "codemirror_mode": {
    "name": "ipython",
    "version": 3
   },
   "file_extension": ".py",
   "mimetype": "text/x-python",
   "name": "python",
   "nbconvert_exporter": "python",
   "pygments_lexer": "ipython3",
   "version": "3.11.4"
  }
 },
 "nbformat": 4,
 "nbformat_minor": 5
}
