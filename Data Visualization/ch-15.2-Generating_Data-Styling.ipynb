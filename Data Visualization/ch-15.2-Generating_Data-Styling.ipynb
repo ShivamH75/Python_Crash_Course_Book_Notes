{
 "cells": [
  {
   "cell_type": "code",
   "execution_count": null,
   "id": "04916c66-0ded-423c-81c6-78e1ea5d693e",
   "metadata": {},
   "outputs": [],
   "source": [
    "import matplotlib.pyplot as plt\n",
    "\n",
    "# Using Built-in Styles.\n",
    "# styles contain a variety of default settings for background colors, gridlines, line widths, fonts, font sizes, and more. \n",
    "print(plt.style.available)              # to check list of available styles\n",
    "\n",
    "\n",
    "values = [1,2,3,4,5]\n",
    "squares = [1,4,9,16,25]\n",
    "cubes = [1,8,27,64,125]\n",
    "\n",
    "plt.style.use('seaborn')            # mention the stylename here\n",
    "ax = plt.subplot()\n",
    "# mention style name should always declare before subplot function\n",
    "\n",
    "# ax.plot(x_values, y_values)           -> will plot line graph\n",
    "# ax.scatter(x_values, y_values)        -> will plot scatter points graph\n",
    "\n",
    "# plt.show()\n",
    "\n",
    "\n",
    "## Plotting and Styling Individual Points with scatter()\n",
    "\n",
    "# ax.scatter(2, 4, s=200)        #mention the x,y co-ordinates of point \n",
    "# s argument to set the size of the dots used to draw the graph \n",
    "# plt.show()\n",
    "\n",
    "\n",
    "## Plotting a Series of Points with scatter()\n",
    "# ax.scatter(x_values, y_values) \n",
    "ax.scatter(values, squares) \n",
    "plt.show()"
   ]
  }
 ],
 "metadata": {
  "kernelspec": {
   "display_name": "Python 3 (ipykernel)",
   "language": "python",
   "name": "python3"
  },
  "language_info": {
   "codemirror_mode": {
    "name": "ipython",
    "version": 3
   },
   "file_extension": ".py",
   "mimetype": "text/x-python",
   "name": "python",
   "nbconvert_exporter": "python",
   "pygments_lexer": "ipython3",
   "version": "3.11.4"
  }
 },
 "nbformat": 4,
 "nbformat_minor": 5
}
