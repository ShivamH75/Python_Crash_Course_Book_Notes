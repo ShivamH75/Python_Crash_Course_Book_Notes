{
 "cells": [
  {
   "cell_type": "code",
   "execution_count": null,
   "id": "76b197d9-3939-4579-86b5-659838e27b3d",
   "metadata": {},
   "outputs": [],
   "source": [
    "# // same type of information for multiple keys\n",
    "favLanguages = {\n",
    "    'john' : 'ruby',\n",
    "    'steven' : 'pearl',\n",
    "    'shivam' : 'python'\n",
    "}"
   ]
  },
  {
   "cell_type": "code",
   "execution_count": null,
   "id": "4f87c090-3462-4332-8ab3-7e3153f8d94a",
   "metadata": {},
   "outputs": [],
   "source": [
    "# // different type of information for multiple keys\n",
    "userInfo = {\n",
    "    'name' : 'Shivam',\n",
    "    'car' : 'Audi'\n",
    "}"
   ]
  }
 ],
 "metadata": {
  "kernelspec": {
   "display_name": "Python 3 (ipykernel)",
   "language": "python",
   "name": "python3"
  },
  "language_info": {
   "codemirror_mode": {
    "name": "ipython",
    "version": 3
   },
   "file_extension": ".py",
   "mimetype": "text/x-python",
   "name": "python",
   "nbconvert_exporter": "python",
   "pygments_lexer": "ipython3",
   "version": "3.11.4"
  }
 },
 "nbformat": 4,
 "nbformat_minor": 5
}
