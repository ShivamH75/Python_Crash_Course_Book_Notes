{
 "cells": [
  {
   "cell_type": "code",
   "execution_count": null,
   "id": "234e780e-04f9-49a7-a5d9-343725e51052",
   "metadata": {},
   "outputs": [],
   "source": [
    "# input() function : take input from user and assigns it to defined variable ## structure- varName = input(\"Enter text that user can read corresponding with action: \")\n",
    "\n",
    "#1. directly enter prompt message in input() \n",
    "name = input(\"Hello, enter your name: \")\n",
    "\n",
    "# 2. user prompt variable inside input(), incase the message is lengthy \n",
    "prompt = \"This is survey. User needs to enter name for registration.\" \n",
    "prompt += prompt + \"\\nPlease Enter your name: \"\n",
    "\n",
    "name= input (prompt)\n",
    "\n",
    "## integer as input. int value is taken as string. need to convert it in order to perform logical operations\n",
    "\n",
    "birthYear = input(\"Enter your Birth Year: \")\n",
    "birthYear = int(birthYear)\n",
    "\n",
    "from datetime import datetime \n",
    "currentYear = datetime.now().year\n",
    "## other attributes of 'datetime' object - month, day, hour, minute, second, microsecond\n",
    "\n",
    "print(\"Your age is: \", abs(birthYear-currentYear))\n",
    "# abs() method returns the non-negative value\n",
    "\n",
    "## Modulo operator: divides one number by another and returns the remainder \n",
    "\n",
    "def evenORodd(num):\n",
    "    if (num%2) == 0: return(\"Given number is Even.\")    # have used 'return' here, check why 'print' was giving 'None'\n",
    "    else:\n",
    "        return(\"Given number is odd\")\n",
    "\n",
    "print(evenORodd(61))"
   ]
  }
 ],
 "metadata": {
  "kernelspec": {
   "display_name": "Python 3 (ipykernel)",
   "language": "python",
   "name": "python3"
  },
  "language_info": {
   "codemirror_mode": {
    "name": "ipython",
    "version": 3
   },
   "file_extension": ".py",
   "mimetype": "text/x-python",
   "name": "python",
   "nbconvert_exporter": "python",
   "pygments_lexer": "ipython3",
   "version": "3.11.4"
  }
 },
 "nbformat": 4,
 "nbformat_minor": 5
}
