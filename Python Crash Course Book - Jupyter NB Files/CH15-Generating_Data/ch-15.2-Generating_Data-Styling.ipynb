{
 "cells": [
  {
   "cell_type": "code",
   "execution_count": null,
   "id": "981d91d1-bd99-4e11-bff6-7d0625a7d6ef",
   "metadata": {},
   "outputs": [],
   "source": [
    "import matplotlib.pyplot as plt\n",
    "\n",
    "import numpy as np"
   ]
  },
  {
   "cell_type": "code",
   "execution_count": null,
   "id": "6df5a5c1-8d24-4bf0-af8c-bb26fbcf1960",
   "metadata": {},
   "outputs": [],
   "source": [
    "# Using Built-in Styles.\n",
    "# styles contain a variety of default settings for background colors, gridlines, line widths, fonts, font sizes, and more. \n",
    "\n",
    "# to check list of available styles\n",
    "\n",
    "for style in plt.style.available:\n",
    "    print (style)"
   ]
  },
  {
   "cell_type": "code",
   "execution_count": null,
   "id": "04916c66-0ded-423c-81c6-78e1ea5d693e",
   "metadata": {},
   "outputs": [],
   "source": [
    "values = [1,2,3,4,5]\n",
    "squares = [1,4,9,16,25]\n",
    "cubes = [1,8,27,64,125]\n",
    "\n",
    "plt.style.use('seaborn-v0_8-pastel')            # mention the stylename here\n",
    "ax = plt.subplot()\n",
    "# mention style name should always declare before subplot function\n",
    "\n",
    "## Plotting a Series of Points with scatter()\n",
    "# ax.scatter(x_values, y_values) \n",
    "ax.scatter(values, squares) \n",
    "plt.show()"
   ]
  },
  {
   "cell_type": "code",
   "execution_count": null,
   "id": "2ab0419d-a4e9-4960-b40f-e3925225cf4c",
   "metadata": {},
   "outputs": [],
   "source": [
    "## Plotting and Styling Individual Points with scatter()\n",
    "\n",
    "ax = plt.subplot()\n",
    "ax.scatter(2, 4, s=200)        # mention the x,y co-ordinates of point \n",
    "# s argument to set the size of the dots used to draw the graph \n",
    "plt.show()"
   ]
  },
  {
   "cell_type": "code",
   "execution_count": null,
   "id": "7daaadc2-fa3f-4152-8886-45d62482e313",
   "metadata": {},
   "outputs": [],
   "source": [
    "# plot scatter points graph\n",
    "\n",
    "x_values = [1,2,3,4,5]\n",
    "y_values = [1,4,9,16,25]\n",
    "\n",
    "ax = plt.subplot()\n",
    "\n",
    "ax.scatter(x_values, y_values)        \n",
    "\n",
    "plt.show()"
   ]
  },
  {
   "cell_type": "code",
   "execution_count": null,
   "id": "0698e7fa-0327-415e-953f-c82a9d0ff7c6",
   "metadata": {},
   "outputs": [],
   "source": [
    "# plot line graph\n",
    "\n",
    "x_values = [1,2,3,4,5]\n",
    "y_values = [1,4,9,16,25]\n",
    "\n",
    "ax = plt.subplot()\n",
    "\n",
    "ax.plot(x_values, y_values)          \n",
    "\n",
    "plt.show()"
   ]
  },
  {
   "cell_type": "code",
   "execution_count": null,
   "id": "b4052134-31ea-4c89-b2fa-b3a174cb744d",
   "metadata": {},
   "outputs": [],
   "source": [
    "# Some Advance graph\n",
    "x = np.linspace(0, 10, 500)            # set x-axis spacing\n",
    "y1 = np.sin(x)\n",
    "y2 = np.cos(x)\n",
    "x_scatter = np.array([2, 4, 6, 8])\n",
    "y_scatter = np.array([0.5, -0.5, 0.7, -0.7])\n",
    "\n",
    "# Create a figure and axis\n",
    "fig, ax = plt.subplots()\n",
    "\n",
    "# Plot the line plot\n",
    "ax.plot(x, y1, label='Sine Wave', color='b')\n",
    "\n",
    "# Create a scatter plot\n",
    "ax.scatter(x_scatter, y_scatter, label='Scatter Points', color='r', marker='^')\n",
    "\n",
    "# Set labels and legend\n",
    "ax.set_xlabel('X-axis')\n",
    "ax.set_ylabel('Y-axis')\n",
    "ax.set_title('Combined Plot and Scatter Plot')\n",
    "ax.legend()\n",
    "\n",
    "# Display the plot\n",
    "plt.show()\n"
   ]
  },
  {
   "cell_type": "code",
   "execution_count": null,
   "id": "0095ba3e-f8d2-4b2c-9b77-876b3624a6ac",
   "metadata": {},
   "outputs": [],
   "source": []
  }
 ],
 "metadata": {
  "kernelspec": {
   "display_name": "Python 3 (ipykernel)",
   "language": "python",
   "name": "python3"
  },
  "language_info": {
   "codemirror_mode": {
    "name": "ipython",
    "version": 3
   },
   "file_extension": ".py",
   "mimetype": "text/x-python",
   "name": "python",
   "nbconvert_exporter": "python",
   "pygments_lexer": "ipython3",
   "version": "3.11.4"
  }
 },
 "nbformat": 4,
 "nbformat_minor": 5
}
