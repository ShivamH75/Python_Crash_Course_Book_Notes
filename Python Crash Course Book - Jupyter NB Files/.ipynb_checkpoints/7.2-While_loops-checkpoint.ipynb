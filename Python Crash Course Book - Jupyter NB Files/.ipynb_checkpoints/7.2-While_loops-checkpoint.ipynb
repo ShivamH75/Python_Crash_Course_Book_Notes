{
 "cells": [
  {
   "cell_type": "code",
   "execution_count": null,
   "id": "36644596-dcd1-4011-8309-a11437c9b25b",
   "metadata": {},
   "outputs": [],
   "source": [
    "# FOR LOOP\n",
    "# 1. Use a for loop when you know the number of times you want to iterate or when you want to iterate over elements in a collection (e.g., list, tuple, string, etc.).\n",
    "# 2. The for loop automatically takes care of handling the iteration and doesn't require you to manage a loop variable explicitly.\n",
    "# 3. It is ideal when you want to perform a specific action for each item in a sequence.\n",
    "\n",
    "fruits = [\"apple\", \"banana\", \"orange\"] \n",
    "for fruit in fruits:\n",
    "    print (fruit)\n",
    "\n",
    "# WHILE LOOP\n",
    "# Use a while loop when you don't know in advance how many times you want to iterate, and the loop's continuation depends on a condition.\n",
    "# The while loop requires you to manage a loop variable explicitly, and you need to take care of incrementing or decrementing it (if applicable) inside the loop.\n",
    "# It is ideal when you want to repeat a specific action until a certain condition becomes false.\n",
    "\n",
    "count = 0\n",
    "\n",
    "while count < 3:\n",
    "    print(\"Hello!\")\n",
    "    count += 1\n",
    "\n",
    "## Parrot program- loop will run until you say stop\n",
    "\n",
    "# message = \"\"\n",
    "# while message != 'stop':\n",
    "#   message input(\"hello parrot: \")\n",
    "#       if message == 'stop': \n",
    "#           print(\"Ok boss, i'll stop!\")\n",
    "#       else: \n",
    "#           print(\"Parrot says: \", message)\n",
    "\n",
    "# using 'flags' to determine the running condition of the loop (find more about iportance of flag in while loop). there could be multiple conditions which will cause the loop to stop. we can set these conditions to flag, so that main code will gets simplified\n",
    "\n",
    "flagActive = True\n",
    "\n",
    "message = \"\"\n",
    "\n",
    "print(\"stop: parrot will stop talking, sleep: Parrot will sleep, fly: parrot will fly\")\n",
    "\n",
    "while flagActive:\n",
    "    message = input (\"owner says to parrot: \")\n",
    "    if message == 'stop':\n",
    "        print(\"Ok boss, i'll stop repeating!\")\n",
    "        flagActive = False      # multiple condition to end the loop\n",
    "        \n",
    "    elif message == 'sleep':\n",
    "        print(\"Parrot has slept...zzzz...\")\n",
    "        flagActive = False      # multiple condition to end the loop\n",
    "        \n",
    "    elif message == 'fly':\n",
    "        print(\"Parrot has flew away... brrr...\")\n",
    "    else:\n",
    "        print(\"Parrot says to owner: \", message)"
   ]
  }
 ],
 "metadata": {
  "kernelspec": {
   "display_name": "Python 3 (ipykernel)",
   "language": "python",
   "name": "python3"
  },
  "language_info": {
   "codemirror_mode": {
    "name": "ipython",
    "version": 3
   },
   "file_extension": ".py",
   "mimetype": "text/x-python",
   "name": "python",
   "nbconvert_exporter": "python",
   "pygments_lexer": "ipython3",
   "version": "3.11.4"
  }
 },
 "nbformat": 4,
 "nbformat_minor": 5
}
