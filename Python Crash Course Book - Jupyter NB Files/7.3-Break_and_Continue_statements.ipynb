{
 "cells": [
  {
   "cell_type": "markdown",
   "id": "24ca36c1-d5a4-4b99-b573-837a4f8c8db3",
   "metadata": {},
   "source": [
    "## Break statement: End the code when set condition is met in an iteration.\n",
    "### The break statement is used to exit a loop prematurely. When encountered, it immediately terminates the loop, even if the loop's condition has not been fully satisfied. \n",
    "### This is useful when you want to stop the loop based on a specific condition.\n"
   ]
  },
  {
   "cell_type": "code",
   "execution_count": null,
   "id": "a7ea07d2-277c-4136-a641-b33cac0fca69",
   "metadata": {},
   "outputs": [],
   "source": [
    "print(\"Break Eg. 1\") \n",
    "for i in range(1, 6):\n",
    "    if i == 3:          # it will not further run the code beyond the condition.\n",
    "        break \n",
    "    print(i)\n",
    "\n",
    "print(\"Break Eg. 2\")\n",
    "while True:\n",
    "    city = input(\"Enter the city you like to visit: \")\n",
    "    if city - \"x\":\n",
    "        print(f\"{city.title()} added in list.\")\n",
    "    else: \n",
    "        break"
   ]
  },
  {
   "cell_type": "markdown",
   "id": "b8e78b90-d1e8-4153-8651-d85a36774709",
   "metadata": {},
   "source": [
    "## Continue statement: skip the code for mentioned iteration (if condition is met), continue for remaining iterations.\n",
    "#### The continue statement is used to skip the rest of the current iteration and proceed to the for the current iteration. next iteration of the loop. When encountered, it ignores the remaining code inside the loop\n"
   ]
  },
  {
   "cell_type": "code",
   "execution_count": null,
   "id": "0651e49a-d9c5-4045-952b-745977d26b00",
   "metadata": {},
   "outputs": [],
   "source": [
    "print(\"Continue Eg. 1\") \n",
    "for i in range(1, 6):\n",
    "    if 1 == 3:          #it will skip the code for iteration when conditon is true (1-3), and will continue from next value.\n",
    "        continue\n",
    "    print(i)\n",
    "\n",
    "print(\"Continue Eg. 2: Print Even numbers between 1 to 20\")\n",
    "\n",
    "i = 0\n",
    "while 1 < 20:\n",
    "    i = i + 1\n",
    "    if i%2 == 0:\n",
    "        continue\n",
    "    print(1)"
   ]
  },
  {
   "cell_type": "code",
   "execution_count": null,
   "id": "53fae4b1-4e54-4f8c-b464-d48a419bba7c",
   "metadata": {},
   "outputs": [],
   "source": [
    "# using while loop in a list\n",
    "# make one list with unconfirmed users and add the items in another confirmed usor list\n",
    "\n",
    "unconfirmedUsers = ['deepak', 'mohit', \"pratik\", 'samEer' ]\n",
    "confirmedUsers = []\n",
    "\n",
    "while unconfirmedUsers:\n",
    "    verifiedUser = unconfirmedUsers.pop()\n",
    "    confirmedUsers.append(verifiedUser)\n",
    "\n",
    "print(\"\\nThe following users have been confirmed:\") \n",
    "for user in confirmedUsers:\n",
    "    print(user.title())"
   ]
  },
  {
   "cell_type": "code",
   "execution_count": null,
   "id": "130b8aec-1d71-422b-9415-fad6731b6a27",
   "metadata": {},
   "outputs": [],
   "source": [
    "# Removing All Instances of Specific Values from a List\n",
    "\n",
    "pets = ['dog', 'cat', 'dog', \"goldfish\", 'cat', 'rabbit', 'cat'] \n",
    "print(pets)\n",
    "\n",
    "while 'cat' in pets: \n",
    "    pets.remove('cat')\n",
    "\n",
    "print(pets)"
   ]
  },
  {
   "cell_type": "code",
   "execution_count": null,
   "id": "a013cdbc-0a06-4179-b8ad-96f45e80c5ba",
   "metadata": {},
   "outputs": [],
   "source": [
    "### while loop to create user dictionary\n",
    "\n",
    "userInfo  = {}\n",
    "\n",
    "activeFlag = True\n",
    "\n",
    "while activeFlag:\n",
    "    userName = input(\"Enter your Name: \")\n",
    "    userAge =  input(\"Enter your Age: \")\n",
    "\n",
    "    userInfo[userName] = userAge\n",
    "\n",
    "    endLoop = input(\"Would you like to add more users (y/n): \")\n",
    "    if endLoop == 'y':\n",
    "        continue\n",
    "    elif endLoop == 'n':\n",
    "        break\n",
    "\n",
    "for name, age in userInfo.items(): \n",
    "    print(f\"Age of {name} is {age}.\")"
   ]
  }
 ],
 "metadata": {
  "kernelspec": {
   "display_name": "Python 3 (ipykernel)",
   "language": "python",
   "name": "python3"
  },
  "language_info": {
   "codemirror_mode": {
    "name": "ipython",
    "version": 3
   },
   "file_extension": ".py",
   "mimetype": "text/x-python",
   "name": "python",
   "nbconvert_exporter": "python",
   "pygments_lexer": "ipython3",
   "version": "3.11.4"
  }
 },
 "nbformat": 4,
 "nbformat_minor": 5
}
