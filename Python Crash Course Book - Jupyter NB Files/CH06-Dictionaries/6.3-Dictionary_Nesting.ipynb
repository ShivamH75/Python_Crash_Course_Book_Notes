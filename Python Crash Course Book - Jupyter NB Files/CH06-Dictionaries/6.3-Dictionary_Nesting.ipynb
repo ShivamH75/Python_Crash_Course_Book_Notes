{
 "cells": [
  {
   "cell_type": "markdown",
   "id": "fc5b9ab6-dc07-41a1-9629-0cce67e737cf",
   "metadata": {},
   "source": [
    "### Dictionary Nesting\n",
    "Sometimes you’ll want to store multiple dictionaries in a list, or a list of items as a value in a dictionary.\n",
    "This is called NESTING. \n",
    "we can Nest list in dict, dict in list, dict in dict\n",
    "listEg= ['tom', 'jerry'] # dictEg { \"name\": \"tom\", \"age\" : 3)"
   ]
  },
  {
   "cell_type": "code",
   "execution_count": null,
   "id": "6507017f-8caa-44b3-a108-788a5315aef6",
   "metadata": {},
   "outputs": [],
   "source": [
    "# import random\n",
    "# num random.randint(1,3)\n",
    "# aliens = []       # create a empty list\n",
    "\n",
    "# alienGreen = {\"color\":\"green\", \"speed\":\"slow\", \"points\":5}\n",
    "# alienYellow = {\"color\":\"yellow\", \"speed\":\"medium\", \"points\":10}\n",
    "# alienRed = {\"color\":\"red\", \"speed\": \"fast\", \"points\":15}\n",
    "\n",
    "# for alien in range(30):\n",
    "#     num = random.randint(1,3)\n",
    "#     if num == 1:\n",
    "#         aliens.append(alienGreen)\n",
    "#     elif num == 2:\n",
    "#         aliens.append(alienYellow)\n",
    "#     else:\n",
    "#         aliens.append(alienRed)\n",
    "\n",
    "# for alien in aliens:\n",
    "#     print(alien)"
   ]
  },
  {
   "cell_type": "code",
   "execution_count": null,
   "id": "0140a748-fcc5-401e-99f7-8ea624aac060",
   "metadata": {},
   "outputs": [],
   "source": [
    "# 1. List of Dictionaries\n",
    "aliens = []        # create a empty list\n",
    "\n",
    "for alien in range(30):     # range function to run loop for 30 times\n",
    "    alien = {\"color\": \"green\",\"speed\":\"slow\", \"points\":5}   \n",
    "    aliens.append(alien)        # add the alien to the list\n",
    "\n",
    "    for alien in aliens [0:3]: # change properties of first 3 aliens to yellow\n",
    "        if alien['color'] == 'green':\n",
    "            alien['color'] = 'yellow'\n",
    "            alien['speed'] = 'medium'\n",
    "            alien['points'] = 10\n",
    "\n",
    "for alien in aliens[:5]:\n",
    "    print(alien)"
   ]
  },
  {
   "cell_type": "code",
   "execution_count": null,
   "id": "ba878095-008a-4e3b-94f5-f8188f6b58b5",
   "metadata": {},
   "outputs": [],
   "source": [
    "# 2. List in a Dictionary\n",
    "# list can be nested in a diectionary when we want multiple values to be stored as a value for a key\n",
    "\n",
    "pizza = {\n",
    "    'crust': 'medium',\n",
    "    'toppings': ['pineapple', 'mushroom', 'olive']\n",
    "    }\n",
    "print (f\"You have ordered {pizza['crust']}-crust pizza with following toppings: \")\n",
    "\n",
    "for topping in pizza['toppings']:\n",
    "    print(topping)\n",
    "\n",
    "\n",
    "# another example\n",
    "fav_lang = {\n",
    "    'shivam' : ['python', 'c', 'c++'],\n",
    "    'akash': ['java'],\n",
    "    'tejas': ['javascript']\n",
    "    }\n",
    "\n",
    "for name, lang in fav_lang.items():\n",
    "    if len(lang) == 1:\n",
    "        print(\"Favourite language of {name} is: \")\n",
    "        for lan in lang:\n",
    "            print(lan)\n",
    "    else:\n",
    "        print(f\"Favourite languages of {name} are: \")"
   ]
  },
  {
   "cell_type": "code",
   "execution_count": null,
   "id": "66701a01-d099-45a4-b7a2-c2e0a3d66bec",
   "metadata": {},
   "outputs": [],
   "source": [
    "# 3. A Dictionary in a Dictionary\n",
    "# e.g. dictionary of users (key) with their info multiple items.\n",
    "\n",
    "userData = {\n",
    "    'shivam11' : {\n",
    "        'FirstName' : 'Shivam',\n",
    "        'LastName': 'Hundekari',\n",
    "        'Age': 23\n",
    "},\n",
    "    'rahu187' : {\n",
    "        'FirstName' : \"Rahul\",\n",
    "        'LastName': 'Sutar',\n",
    "        'Age' : 24\n",
    "    }\n",
    "}\n",
    "\n",
    "for username, userinfo in userData.items(): \n",
    "    print(\"\\nUsername of person is {username} with following details:\")\n",
    "\n",
    "    for infokey, infoValue in userinfo.items():\n",
    "        print(f\"{infokey} {infoValue}\")"
   ]
  },
  {
   "cell_type": "code",
   "execution_count": null,
   "id": "9a03642c-04aa-400a-9280-67de03531afa",
   "metadata": {},
   "outputs": [],
   "source": [
    "# Another method to print data of dict inside dict\n",
    "for username, user_info in userData.items():    #user_info is dict and we loop through it\n",
    "    print(f\"\\nUsername: {username}\") \n",
    "    full_name = f\"{user_info['FirstName']}\"\n",
    "    age = user_info['Age']\n",
    "    print (f\"\\tFull name: {full_name.title()}\") \n",
    "    print (f\"\\tAge: {age}\")"
   ]
  }
 ],
 "metadata": {
  "kernelspec": {
   "display_name": "Python 3 (ipykernel)",
   "language": "python",
   "name": "python3"
  },
  "language_info": {
   "codemirror_mode": {
    "name": "ipython",
    "version": 3
   },
   "file_extension": ".py",
   "mimetype": "text/x-python",
   "name": "python",
   "nbconvert_exporter": "python",
   "pygments_lexer": "ipython3",
   "version": "3.11.4"
  }
 },
 "nbformat": 4,
 "nbformat_minor": 5
}
