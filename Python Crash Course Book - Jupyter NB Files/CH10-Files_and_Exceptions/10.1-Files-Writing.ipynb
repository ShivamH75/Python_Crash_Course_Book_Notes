{
 "cells": [
  {
   "cell_type": "code",
   "execution_count": null,
   "id": "30adf78b-f4e6-4046-bd90-b08ca88ccdc9",
   "metadata": {},
   "outputs": [],
   "source": [
    "# Writing to a File\n",
    "\n",
    "# same 2 lines as read text\n",
    "\n",
    "from pathlib import Path\n",
    "path = Path('text files\\\\writeFile.txt')\n",
    "'''if there is no existing file in given path, new file will be created'''\n",
    "\n",
    "sampleString = \"Hello Robin\"\n",
    "\n",
    "path.write_text(sampleString)\n",
    "\n",
    "print(path.read_text())\n",
    "\n",
    "\n",
    "# Be careful when calling write_text() on a path object. If the file already exists, write_text() will erase the current contents of the file and write new contents to the file\n"
   ]
  }
 ],
 "metadata": {
  "kernelspec": {
   "display_name": "Python 3 (ipykernel)",
   "language": "python",
   "name": "python3"
  },
  "language_info": {
   "codemirror_mode": {
    "name": "ipython",
    "version": 3
   },
   "file_extension": ".py",
   "mimetype": "text/x-python",
   "name": "python",
   "nbconvert_exporter": "python",
   "pygments_lexer": "ipython3",
   "version": "3.11.4"
  }
 },
 "nbformat": 4,
 "nbformat_minor": 5
}
