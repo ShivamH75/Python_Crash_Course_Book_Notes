{
 "cells": [
  {
   "cell_type": "markdown",
   "id": "fb3dd018-cc85-4379-9297-82369880d203",
   "metadata": {},
   "source": [
    "Hello. This is guide document to create a jupyter notebook. We can use this to save codes and mention the comments."
   ]
  },
  {
   "cell_type": "markdown",
   "id": "1b5c5d77-d0de-4947-ac61-ef802911359e",
   "metadata": {},
   "source": [
    "First install jupyter modules\n",
    "\n",
    "-> pip install jupyter\n",
    "\n",
    "-> pip install jupyterlab"
   ]
  },
  {
   "cell_type": "markdown",
   "id": "8f4cefc4-f0a9-406c-9985-f1a65b3a34ad",
   "metadata": {},
   "source": [
    "Launch the Notebook by command. This starts a local host server.\n",
    "-> jupyter notebook"
   ]
  },
  {
   "cell_type": "markdown",
   "id": "487d73f5-ca7f-4123-b13a-6812508c2fb7",
   "metadata": {},
   "source": [
    "Create a New file. Start Coding."
   ]
  },
  {
   "cell_type": "markdown",
   "id": "88ee9878-49c3-47f0-b140-5ae5890a964f",
   "metadata": {},
   "source": [
    "# Python Code to print output statement"
   ]
  },
  {
   "cell_type": "code",
   "execution_count": 1,
   "id": "25d45d21-9aa7-4bc1-b68b-fa728ac63e46",
   "metadata": {},
   "outputs": [
    {
     "name": "stdout",
     "output_type": "stream",
     "text": [
      "Hello World\n"
     ]
    }
   ],
   "source": [
    "print(\"Hello World\")"
   ]
  },
  {
   "cell_type": "code",
   "execution_count": null,
   "id": "1f8fb99c-c9cb-4ad9-a18c-b58c20fc33e2",
   "metadata": {},
   "outputs": [],
   "source": []
  },
  {
   "cell_type": "code",
   "execution_count": null,
   "id": "32468c2b-0082-4f06-957f-bfd5331d8d28",
   "metadata": {},
   "outputs": [],
   "source": []
  }
 ],
 "metadata": {
  "kernelspec": {
   "display_name": "Python 3 (ipykernel)",
   "language": "python",
   "name": "python3"
  },
  "language_info": {
   "codemirror_mode": {
    "name": "ipython",
    "version": 3
   },
   "file_extension": ".py",
   "mimetype": "text/x-python",
   "name": "python",
   "nbconvert_exporter": "python",
   "pygments_lexer": "ipython3",
   "version": "3.11.4"
  }
 },
 "nbformat": 4,
 "nbformat_minor": 5
}
