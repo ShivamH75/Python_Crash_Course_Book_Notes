{
 "cells": [
  {
   "cell_type": "markdown",
   "id": "ac34e611-c02e-4114-90fd-8df715819c94",
   "metadata": {},
   "source": [
    "# Random Walks\n",
    "A random walk is a path that’s determined by a series of simple decisions, each of which is left entirely to chance. "
   ]
  },
  {
   "cell_type": "code",
   "execution_count": null,
   "id": "5c054d2e-6439-4c33-b3d4-961e02ba6f97",
   "metadata": {},
   "outputs": [],
   "source": [
    "# python code to generate random points\n",
    "\n",
    "# creating a RandomWalk class:\n",
    "\n",
    "from random import choice\n",
    "\n",
    "class RandomWalk:\n",
    "    \"\"\"A class to generate random walks.\"\"\"\n",
    "    def __init__(self, num_points = 1000):\n",
    "        \"\"\"Initialize attributes of a walk.\"\"\"\n",
    "        self.num_points = num_points\n",
    " \n",
    "    # All walks start at (0, 0).\n",
    "        self.x_values = [0]\n",
    "        self.y_values = [0]\n",
    "    \n",
    "    def fill_walk(self):\n",
    "        \"\"\"Calculate all the points in the walk.\"\"\"\n",
    " \n",
    "        # Keep taking steps until the walk reaches the desired length.\n",
    "        while len(self.x_values) < self.num_points:\n",
    " \n",
    "        # Decide which direction to go and how far to go in that direction.\n",
    "            x_direction = choice([1, -1])\n",
    "            x_distance = choice([0, 1, 2, 3, 4])\n",
    "            x_step = x_direction * x_distance\n",
    " \n",
    "            y_direction = choice([1, -1])\n",
    "            y_distance = choice([0, 1, 2, 3, 4])\n",
    "            y_step = y_direction * y_distance\n",
    " \n",
    "            # Reject moves that go nowhere.\n",
    "            if x_step == 0 and y_step == 0:\n",
    "                continue\n",
    " \n",
    "            # Calculate the new position.\n",
    "            x = self.x_values[-1] + x_step\n",
    "            y = self.y_values[-1] + y_step\n",
    " \n",
    "            self.x_values.append(x)\n",
    "            self.y_values.append(y)"
   ]
  },
  {
   "cell_type": "code",
   "execution_count": null,
   "id": "9c9644b3-a7ba-4284-a619-09438d8b4778",
   "metadata": {},
   "outputs": [],
   "source": [
    "import matplotlib.pyplot as plt\n",
    "\n",
    "# Make a random walk.\n",
    "rw = RandomWalk()\n",
    "rw.fill_walk()\n",
    "\n",
    "# Plot the points in the walk.\n",
    "plt.style.use('classic')\n",
    "fig, ax = plt.subplots()\n",
    "\n",
    "ax.scatter(rw.x_values, rw.y_values, s=15)\n",
    "plt.show()"
   ]
  },
  {
   "cell_type": "markdown",
   "id": "001e5ac5-c761-4b61-b851-49d3d2e34cd6",
   "metadata": {},
   "source": [
    "# loop to generate multiple random walks"
   ]
  },
  {
   "cell_type": "code",
   "execution_count": null,
   "id": "2c0be9da-f78a-4cbb-babd-15d772fe1f1f",
   "metadata": {},
   "outputs": [],
   "source": [
    "# Keep making new walks, as long as the program is active.\n",
    "\n",
    "# Remove the axes.\n",
    "ax.get_xaxis().set_visible(False)\n",
    "ax.get_yaxis().set_visible(False)\n",
    "\n",
    "\n",
    "while True:\n",
    "# Make a random walk.\n",
    "    rw = RandomWalk()\n",
    "    rw.fill_walk()\n",
    "\n",
    "# Plot the points in the walk.\n",
    "    plt.style.use('classic')\n",
    "\n",
    "    fig, ax = plt.subplots()\n",
    "    point_numbers = range(rw.num_points)\n",
    "    ax.scatter(rw.x_values, rw.y_values, c=point_numbers, cmap=plt.cm.Blues,edgecolors='none', s=15)\n",
    "    plt.show()\n",
    "    \n",
    "    keep_running = input(\"Make another walk? (y/n): \")\n",
    "\n",
    "    if keep_running == 'n':\n",
    "        break"
   ]
  }
 ],
 "metadata": {
  "kernelspec": {
   "display_name": "Python 3 (ipykernel)",
   "language": "python",
   "name": "python3"
  },
  "language_info": {
   "codemirror_mode": {
    "name": "ipython",
    "version": 3
   },
   "file_extension": ".py",
   "mimetype": "text/x-python",
   "name": "python",
   "nbconvert_exporter": "python",
   "pygments_lexer": "ipython3",
   "version": "3.11.4"
  }
 },
 "nbformat": 4,
 "nbformat_minor": 5
}
