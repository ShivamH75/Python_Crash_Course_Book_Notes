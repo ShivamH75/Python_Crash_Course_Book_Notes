{
 "cells": [
  {
   "cell_type": "code",
   "execution_count": null,
   "id": "3e22fd55-96ef-48a3-aa61-0d04554970a6",
   "metadata": {},
   "outputs": [],
   "source": [
    "## Passing list to the function\n",
    "\n",
    "def greetUser(names):           #here we model the parameter as a list\n",
    "    \"function to greet individual member of a list\"\n",
    "    for name in names: \n",
    "        print (f\"Hello, {name.title()}\")\n",
    "\n",
    "\n",
    "boyNames = ['amol', 'pratik', 'santosh'] \n",
    "girlNames = ['maya', 'riya', 'geeta']\n",
    "\n",
    "greetUser(boyNames)         # we have passed list as a argument in the function \n",
    "greetUser(girlNames)"
   ]
  },
  {
   "cell_type": "code",
   "execution_count": null,
   "id": "f1a8f1ec-2c76-42a3-b1de-13fa01b69786",
   "metadata": {},
   "outputs": [],
   "source": [
    "## Modifying a List in a Function \n",
    "\n",
    "def formatterFunction(ogList): \n",
    "    '''function that converts elements of list into title case'''\n",
    "    sampleList = []\n",
    "    while ogList:\n",
    "        current_design = ogList.pop()\n",
    "        format_design = current_design.title()\n",
    "        sampleList.append(format_design)\n",
    "        \n",
    "    return sampleList[::-1]                     # [::-1] for returning a list as Reversed\n",
    "\n",
    "\n",
    "original_list = ['Hello', 'HeYY', 'holla'] \n",
    "print (original_list)\n",
    "\n",
    "formatted_list = formatterFunction (original_list)\n",
    "print (formatted_list)"
   ]
  },
  {
   "cell_type": "code",
   "execution_count": null,
   "id": "73101b85-d52f-46ff-bf6b-7a94051f0f74",
   "metadata": {},
   "outputs": [],
   "source": [
    "#Preventing a Function from Modifying a List\n",
    "\n",
    "originalAnimals = ['cat', 'dog', 'tiger', 'fox'] \n",
    "print (originalAnimals)\n",
    "\n",
    "sampleVar = formatterFunction(originalAnimals[:]) # way of passing copy of our list- functionName (listName[:]) \n",
    "print(sampleVar)\n",
    "\n",
    "print (originalAnimals)         #original list is not affected"
   ]
  }
 ],
 "metadata": {
  "kernelspec": {
   "display_name": "Python 3 (ipykernel)",
   "language": "python",
   "name": "python3"
  },
  "language_info": {
   "codemirror_mode": {
    "name": "ipython",
    "version": 3
   },
   "file_extension": ".py",
   "mimetype": "text/x-python",
   "name": "python",
   "nbconvert_exporter": "python",
   "pygments_lexer": "ipython3",
   "version": "3.11.4"
  }
 },
 "nbformat": 4,
 "nbformat_minor": 5
}
